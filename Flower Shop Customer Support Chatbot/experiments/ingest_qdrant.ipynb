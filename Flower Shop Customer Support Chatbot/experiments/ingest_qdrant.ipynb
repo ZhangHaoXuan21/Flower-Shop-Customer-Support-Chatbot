{
 "cells": [
  {
   "cell_type": "code",
   "execution_count": 32,
   "metadata": {},
   "outputs": [],
   "source": [
    "from langchain_community.document_loaders import PyPDFLoader\n",
    "from langchain_text_splitters import RecursiveCharacterTextSplitter\n",
    "from langchain_qdrant import QdrantVectorStore\n",
    "from langchain_ollama import OllamaEmbeddings\n",
    "from langchain_qdrant import FastEmbedSparse, RetrievalMode\n",
    "from langchain import hub\n",
    "from langchain_core.output_parsers import StrOutputParser\n",
    "from langchain_core.runnables import RunnablePassthrough\n",
    "from langchain_groq import ChatGroq\n",
    "from langchain_huggingface import HuggingFaceEmbeddings\n",
    "from langchain_core.documents import Document\n",
    "\n",
    "import config\n",
    "import pandas as pd"
   ]
  },
  {
   "cell_type": "code",
   "execution_count": 33,
   "metadata": {},
   "outputs": [
    {
     "name": "stdout",
     "output_type": "stream",
     "text": [
      "collections=[CollectionDescription(name='flowers_policy'), CollectionDescription(name='flowers'), CollectionDescription(name='mlops_document')]\n"
     ]
    }
   ],
   "source": [
    "from qdrant_client import QdrantClient\n",
    "\n",
    "url = config.QDRANT_URL\n",
    "api_key = config.QDRANT_API_KEY\n",
    "\n",
    "qdrant_client = QdrantClient(\n",
    "    url=url, \n",
    "    api_key=api_key,\n",
    ")\n",
    "\n",
    "print(qdrant_client.get_collections())"
   ]
  },
  {
   "cell_type": "code",
   "execution_count": 38,
   "metadata": {},
   "outputs": [
    {
     "data": {
      "text/plain": [
       "True"
      ]
     },
     "execution_count": 38,
     "metadata": {},
     "output_type": "execute_result"
    }
   ],
   "source": [
    "qdrant_client.delete_collection(collection_name=\"flowers\")"
   ]
  },
  {
   "cell_type": "code",
   "execution_count": 39,
   "metadata": {},
   "outputs": [
    {
     "data": {
      "text/plain": [
       "False"
      ]
     },
     "execution_count": 39,
     "metadata": {},
     "output_type": "execute_result"
    }
   ],
   "source": [
    "qdrant_client.delete_collection(collection_name=\"flowers_policy\")"
   ]
  },
  {
   "cell_type": "markdown",
   "metadata": {},
   "source": [
    "# 1. Ingest Flower Products"
   ]
  },
  {
   "cell_type": "markdown",
   "metadata": {},
   "source": [
    "## 2.1  Data Loading"
   ]
  },
  {
   "cell_type": "code",
   "execution_count": 4,
   "metadata": {},
   "outputs": [],
   "source": [
    "df = pd.read_excel(\"../dataset/flowers.xlsx\")"
   ]
  },
  {
   "cell_type": "code",
   "execution_count": 7,
   "metadata": {},
   "outputs": [
    {
     "data": {
      "text/html": [
       "<div>\n",
       "<style scoped>\n",
       "    .dataframe tbody tr th:only-of-type {\n",
       "        vertical-align: middle;\n",
       "    }\n",
       "\n",
       "    .dataframe tbody tr th {\n",
       "        vertical-align: top;\n",
       "    }\n",
       "\n",
       "    .dataframe thead th {\n",
       "        text-align: right;\n",
       "    }\n",
       "</style>\n",
       "<table border=\"1\" class=\"dataframe\">\n",
       "  <thead>\n",
       "    <tr style=\"text-align: right;\">\n",
       "      <th></th>\n",
       "      <th>Product_Id</th>\n",
       "      <th>Product_Name</th>\n",
       "      <th>Best_Occasion</th>\n",
       "      <th>Description</th>\n",
       "      <th>Price_RM</th>\n",
       "      <th>Blooms</th>\n",
       "      <th>Bouquet_Size</th>\n",
       "    </tr>\n",
       "  </thead>\n",
       "  <tbody>\n",
       "    <tr>\n",
       "      <th>0</th>\n",
       "      <td>P001</td>\n",
       "      <td>White On White</td>\n",
       "      <td>Anniversary</td>\n",
       "      <td>Introducing our White On White Bouquet, a stun...</td>\n",
       "      <td>420</td>\n",
       "      <td>White Hydrangea, Dahlia, White Tulips and Whit...</td>\n",
       "      <td>Medium</td>\n",
       "    </tr>\n",
       "    <tr>\n",
       "      <th>1</th>\n",
       "      <td>P002</td>\n",
       "      <td>Sweet Serenity</td>\n",
       "      <td>Anniversary</td>\n",
       "      <td>Allow the Sweet Serenity Bouquet to script you...</td>\n",
       "      <td>95</td>\n",
       "      <td>Cappucino Soap Rose and Light Pink Soap Rose</td>\n",
       "      <td>Small / Medium</td>\n",
       "    </tr>\n",
       "    <tr>\n",
       "      <th>2</th>\n",
       "      <td>P003</td>\n",
       "      <td>My Girl Bouquet</td>\n",
       "      <td>Anniversary</td>\n",
       "      <td>My Girl Bouquet Description\\nLet’s get to know...</td>\n",
       "      <td>280</td>\n",
       "      <td>Pink Avalanche, White Tulip and Eucalyptus Bab...</td>\n",
       "      <td>Medium</td>\n",
       "    </tr>\n",
       "    <tr>\n",
       "      <th>3</th>\n",
       "      <td>P004</td>\n",
       "      <td>Blooming Garden Bouquet</td>\n",
       "      <td>Anniversary</td>\n",
       "      <td>Introducing our stunning Blooming Garden Bouqu...</td>\n",
       "      <td>300</td>\n",
       "      <td>Blue Hydrangea, Purple Roses, Purple Rose Spra...</td>\n",
       "      <td>Medium</td>\n",
       "    </tr>\n",
       "    <tr>\n",
       "      <th>4</th>\n",
       "      <td>P005</td>\n",
       "      <td>Sweet Aurora Bouquet</td>\n",
       "      <td>Anniversary</td>\n",
       "      <td>Imagine this: It’s your friend’s birthday, and...</td>\n",
       "      <td>400</td>\n",
       "      <td>Sweet Aurora Ecuador Roses, White Roses, Ocean...</td>\n",
       "      <td>Medium</td>\n",
       "    </tr>\n",
       "  </tbody>\n",
       "</table>\n",
       "</div>"
      ],
      "text/plain": [
       "  Product_Id             Product_Name Best_Occasion  \\\n",
       "0       P001           White On White   Anniversary   \n",
       "1       P002           Sweet Serenity   Anniversary   \n",
       "2       P003          My Girl Bouquet   Anniversary   \n",
       "3       P004  Blooming Garden Bouquet   Anniversary   \n",
       "4       P005     Sweet Aurora Bouquet   Anniversary   \n",
       "\n",
       "                                         Description  Price_RM  \\\n",
       "0  Introducing our White On White Bouquet, a stun...       420   \n",
       "1  Allow the Sweet Serenity Bouquet to script you...        95   \n",
       "2  My Girl Bouquet Description\\nLet’s get to know...       280   \n",
       "3  Introducing our stunning Blooming Garden Bouqu...       300   \n",
       "4  Imagine this: It’s your friend’s birthday, and...       400   \n",
       "\n",
       "                                              Blooms    Bouquet_Size  \n",
       "0  White Hydrangea, Dahlia, White Tulips and Whit...          Medium  \n",
       "1       Cappucino Soap Rose and Light Pink Soap Rose  Small / Medium  \n",
       "2  Pink Avalanche, White Tulip and Eucalyptus Bab...          Medium  \n",
       "3  Blue Hydrangea, Purple Roses, Purple Rose Spra...          Medium  \n",
       "4  Sweet Aurora Ecuador Roses, White Roses, Ocean...          Medium  "
      ]
     },
     "execution_count": 7,
     "metadata": {},
     "output_type": "execute_result"
    }
   ],
   "source": [
    "df.head()"
   ]
  },
  {
   "cell_type": "markdown",
   "metadata": {},
   "source": [
    "## 2.2 Prepare Chunks"
   ]
  },
  {
   "cell_type": "code",
   "execution_count": 16,
   "metadata": {},
   "outputs": [],
   "source": [
    "langchain_documents = []\n",
    "for index, row in df.iterrows():\n",
    "    product_id = row['Product_Id']\n",
    "    product_name = row['Product_Name']\n",
    "    best_occasion = row['Best_Occasion']\n",
    "    description = row['Description']\n",
    "    price_rm = row['Price_RM']\n",
    "    blooms = row['Blooms']\n",
    "    bouquet_size = row['Bouquet_Size']\n",
    "\n",
    "    content = f\"\"\"Product Name: {product_name}\n",
    "Best Occasion: {best_occasion}\n",
    "Product Description: {description}\n",
    "    \"\"\"\n",
    "\n",
    "    document = Document(\n",
    "        page_content=content,\n",
    "        metadata={\n",
    "            \"product_id\":product_id,\n",
    "            \"product_name\":product_name,\n",
    "            \"price_rm\":price_rm,\n",
    "            \"blooms\":blooms,\n",
    "            \"bouquet_size\":bouquet_size\n",
    "        }\n",
    "    )\n",
    "\n",
    "    langchain_documents.append(document)\n",
    "\n"
   ]
  },
  {
   "cell_type": "code",
   "execution_count": 17,
   "metadata": {},
   "outputs": [
    {
     "data": {
      "text/plain": [
       "[Document(metadata={'product_id': 'P001', 'product_name': 'White On White', 'price_rm': 420, 'blooms': 'White Hydrangea, Dahlia, White Tulips and White Roses', 'bouquet_size': 'Medium'}, page_content='Product Name: White On White\\nBest Occasion: Anniversary\\nProduct Description: Introducing our White On White Bouquet, a stunning arrangement perfect for celebrating birthdays and cherished friendships.\\n\\nWhite Hydrangea, with its virtue and grace, adds an elegant touch to birthdays and symbolizes the gracefulness of a lasting friendship.\\nMeanwhile, Dahlias represent eternal love and commitment, making them a wonderful choice to show your lasting friendship bond on a special day.\\nThe White Tulips express respect and faith, emphasizing the trust and admiration in a friendship that deserves birthday celebrations.\\nFinally, the premium White Roses convey value and anticipation, promising every birthday of good times ahead in your treasured friendship. A graceful reminder that each passing year brings new joys & love!\\nAs the birthday recipient gazes upon these exquisite blooms, they are reminding of the beauty that life holds and the enduring friendships that enrich their journey. With the White On White Bouquet,  you are honouring the beautiful friendships that make life truly special.\\n    '),\n",
       " Document(metadata={'product_id': 'P002', 'product_name': 'Sweet Serenity', 'price_rm': 95, 'blooms': 'Cappucino Soap Rose and Light Pink Soap Rose', 'bouquet_size': 'Small / Medium'}, page_content='Product Name: Sweet Serenity\\nBest Occasion: Anniversary\\nProduct Description: Allow the Sweet Serenity Bouquet to script your unique love story as you bask in the radiant glow of Chinese Valentine’s Day- Qixi Festival 2023! This bouquet features 14 & 5 gentle soap roses in deep pink and soft pink shades!\\n\\nThe mix of Cappucino Soap Rose and Light Pink Soap Roses in the “Sweet Serenity Bouquet” carries a special message for this romantic occasion.\\nThe Cappucino Rose express appreciation and gratitude, showing how much you value your special someone. The Light Pink Roses symbolize admiration and sweetness, conveying your fondness and care.\\nImagine the smile on your dearie’s face when she receives this bouquet. It brings a sense of peaceful happiness to their heart. And because these flowers are soap roses, they’ll remain beautiful for a long time, just like your enduring affection.\\n\\nGift the Sweet Serenity Bouquet to your special someone at Qixi Festival. It’s a gift that captures the lasting nature of your love this Chinese Valentine’s Day!\\n    '),\n",
       " Document(metadata={'product_id': 'P003', 'product_name': 'My Girl Bouquet', 'price_rm': 280, 'blooms': 'Pink Avalanche, White Tulip and Eucalyptus Baby Blue\\n', 'bouquet_size': 'Medium'}, page_content='Product Name: My Girl Bouquet\\nBest Occasion: Anniversary\\nProduct Description: My Girl Bouquet Description\\nLet’s get to know the enchanting “My Girl Bouquet”. It’s a sweet and gentle arrangement that adds a touch of magic to make your loved ones celebration even more memorable!\\n\\nPink Rose symbolise of affection and admiration. Surprise your loved one with this beautiful bloom and see their face light up with happiness and love! It’s sure to bring so much joy to their day.\\nWhite Tulip symbolise the magical beginning of a love connection. When you and your partner come together, two souls unite. Both laughter and happiness that has become the soundtrack of your relationship.\\nWith the “My Girl Bouquet”, you’re not just giving flowers, you’re expressing your love and appreciation from the heart! Order now and show your love today?\\n    '),\n",
       " Document(metadata={'product_id': 'P004', 'product_name': 'Blooming Garden Bouquet', 'price_rm': 300, 'blooms': 'Blue Hydrangea, Purple Roses, Purple Rose Spray, Pink Daisy, Champagne Gerbera and Fillers', 'bouquet_size': 'Medium'}, page_content='Product Name: Blooming Garden Bouquet\\nBest Occasion: Anniversary\\nProduct Description: Introducing our stunning Blooming Garden Bouquet, the perfect flower bouquet to celebrate life’s special moments! At White On White, your go-to flower shop in Ipoh, we craft each arrangement with love and artistry, ensuring you deliver a memorable gift for any occasion, especially as a thoughtful birthday gift.\\n\\nThis exquisite bouquet features vibrant Blue Hydrangea, symbolizing understanding and heartfelt emotion, making it an ideal choice for expressing your warm wishes.\\nPaired with elegant Purple Roses, which signify admiration and love, this birthday flower bouquet conveys deep appreciation for the recipient.\\nNext, the delicate Purple Rose Spray adds a touch of grace and beauty, representing the joy and happiness you wish to share on their special day.\\nAdditionally, the cheerful Pink Daisies bring a sense of playfulness and innocence, reminding the recipient to embrace the joy of celebrating another year of life.\\nTo complete this harmonious arrangement, we include Champagne Gerbera, which radiate warmth and positivity, symbolizing beauty and cheer.\\nFinally, our carefully chosen fillers add texture and enhance the overall aesthetic, creating a truly captivating bouquet.\\nWith such a delightful combination, the Blooming Garden Bouquet stands out as a unique birthday gift that will surely leave a lasting impression. Don’t miss out on the opportunity to brighten someone’s special day—order yours from White On White today!\\n\\nExperience the joy of giving with our exquisite flower arrangements, available for same-day delivery. Your loved ones deserve the best, so act fast and make their birthday unforgettable!\\n    '),\n",
       " Document(metadata={'product_id': 'P005', 'product_name': 'Sweet Aurora Bouquet', 'price_rm': 400, 'blooms': 'Sweet Aurora Ecuador Roses, White Roses, Ocean Song, Pink Roses and Baby Blue', 'bouquet_size': 'Medium'}, page_content='Product Name: Sweet Aurora Bouquet\\nBest Occasion: Anniversary\\nProduct Description: Imagine this: It’s your friend’s birthday, and you want to gift them something as unique as your friendship. That’s where the Sweet Aurora Bouquet comes into play.\\n\\nPicture this bouquet as a beautiful story. It begins with Sweet Aurora Ecuador Roses, bursting with vibrant colors and an enchanting fragrance. These roses are like the excitement and joy that birthdays bring – vibrant, full of energy, and impossible to ignore.\\n\\nNow, let’s talk about the White Roses. These delicate blooms are the pure and sincere part of your friendship. They symbolize the trust and loyalty that have grown between you and your friend over the years.\\nAs we move on to the Ocean Song Roses, their striking hue says it all. They convey appreciation and admiration, shouting, “You are unique, and your friendship is an absolute treasure!”\\nThe Pink Roses add a touch of elegance to this story. They signify your gratitude and affection, whispering softly, “Thank you for being such a wonderful friend.”\\nAnd then, there are the Baby Blue blossoms. They bring in a sense of calm, reflecting the peaceful moments you’ve shared in your friendship.\\nTogether, the Sweet Aurora Bouquet tells a story of your unique connection with the birthday celebrant.\\n    '),\n",
       " Document(metadata={'product_id': 'P006', 'product_name': 'Sweet Moments Bouquet', 'price_rm': 260, 'blooms': 'Ocean Song Rose, Pink Rose, White Eustoma, Chamomile, Purple Matthiola, White Trachymene and Eucalyptus', 'bouquet_size': 'Medium'}, page_content='Product Name: Sweet Moments Bouquet\\nBest Occasion: Anniversary\\nProduct Description: Sweet Moments Bouquet Description\\nReady to elevate your gifting game? The Sweet Moments Bouquet promises to enchant anyone lucky enough to receive it!\\n\\nThis stunning arrangement features the mesmerizing Ocean Song Rose, a vibrant bloom that symbolizes tranquility and hope, perfect for brightening even the toughest days.\\nNext, the charming Light Pink Rose Spray invites feelings of love and appreciation, reminding us to cherish the bonds we share.\\nAs you explore the bouquet, the pristine White Eustoma captures the essence of purity and commitment, urging you to celebrate the devotion in your life.\\nTransitioning to the delightful Chamomile, this flower infuses joy and comfort, serving as a gentle reminder to find happiness in the everyday moments.\\nThen, the lovely Light Purple Matthiola emerges, embodying heartfelt sincerity, and encourages you to express your emotions openly and honestly.\\nThe graceful White Trachymene enhances the bouquet with its calming presence, symbolizing balance and peace in life’s whirlwind.\\nFinally, the whimsical Panicum adds a touch of lightness, representing growth and fresh starts, inspiring you to embrace new adventures.\\nWith the Sweet Moments Bouquet, every flower resonates with meaning, inviting you to reflect on life’s sweetest experiences. Whether for a special occasion or just because, this bouquet transforms ordinary moments into unforgettable memories. Don’t miss your chance to get it now today!\\n    '),\n",
       " Document(metadata={'product_id': 'P007', 'product_name': 'Blushing Pink Bouquet', 'price_rm': 160, 'blooms': 'Pink Rose', 'bouquet_size': 'Medium'}, page_content='Product Name: Blushing Pink Bouquet\\nBest Occasion: Apology\\nProduct Description: Enter a realm of timeless beauty with the Blushing Pink Bouquet, which showcases nine stalks of delicate pink roses exuding grace and elegance. We meticulously select each rose to ensure freshness and quality, making this bouquet an ideal choice for any occasion.\\n\\nThe Blushing Pink Bouquet immediately captivates upon arrival with its soft, pastel hue and velvety petals that symbolize admiration and appreciation.\\nWhether you’re celebrating a birthday, anniversary, or surprising someone special, these roses effortlessly convey love.\\nWe arranged each bloom meticulously to highlight its natural beauty. Our expert florist are creating a harmonious composition that pleases the eye and warms the heart.\\nThis bouquet is perfect for expressing affection or gratitude and serves as a thoughtful gesture that speaks volumes. Whether you’re sending wishes from afar or delivering a surprise in person, the Blushing Pink Bouquet promises to leave a lasting impression. Don’t miss out—order now and invite the enchantment of nine exquisite pink roses into your world today.\\n    '),\n",
       " Document(metadata={'product_id': 'P008', 'product_name': 'Chocolove Bouquet', 'price_rm': 160, 'blooms': 'Baby Breath, 8 Ferrero Chocolates\\n', 'bouquet_size': 'Small'}, page_content='Product Name: Chocolove Bouquet\\nBest Occasion: Apology\\nProduct Description: Surprise your loved one with a decadent twist on a classic bouquet! The Chocolove Bouquet is a delightful arrangement that combines everyone’s favorite indulgence – Ferrero Rocher chocolates – with the delicate charm of baby breath.\\n\\nBut what truly makes the Chocolove Bouquet the perfect gift for anyone? It’s the universal language of love expressed through deliciousness!\\n\\nWhether it’s for your mom who deserves a little pampering, your best friend celebrating a promotion, or even a coworker you want to thank for their support, this bouquet speaks volumes.\\nRich chocolates and delicate flowers create a gift that’s both luxurious and heartfelt, guaranteed to put a smile on anyone’s face.\\nAnd let’s not forget the photo opportunity! This bouquet is guaranteed to be Instagram-worthy.\\nSo why settle for ordinary when you can give the extraordinary? The Chocolove Bouquet is the perfect gift for anyone, a delicious treat that doubles as a stunning centerpiece for unforgettable memories.\\n\\nDon’t wait – order yours today and create a moment that will be cherished forever!\\n    '),\n",
       " Document(metadata={'product_id': 'P009', 'product_name': 'Dreamy Moments Bouquet', 'price_rm': 100, 'blooms': 'Ocean Song, Purple Rose, Baby blue and Wax', 'bouquet_size': 'Small'}, page_content='Product Name: Dreamy Moments Bouquet\\nBest Occasion: Apology\\nProduct Description: Let your dear ones embrace a symphony of love and tenderness with Dreamy Moments bouquet. Excellent bouquet for an apology or birthday gift.\\n\\nAn apology can be tough.  With Dreamy Moments bouquet, show your dear ones you truly cherish and value the relationship. You are committed to making amends through actions. With this best deal flower, watch as your apologies bloom into forgiveness and understanding.\\n\\nAs you gaze on this arrangement, you’ll find the realm where hearts connect on a deeper level.\\n\\nOcean Song blooms whisper the tales of love. Purple Rose denotes your everlasting affection, while delicate Baby Blue petals show a sense of calmness. Wax flowers enhances the bouquet with a delicate charm.\\nAlso fantastic as birthday tender gift, with price point so reasonable, best deal flower to display your love is as tender as these captivating flowers.\\nMake the magic with this bouquet to mend hearts and strengthen the bond you share.\\n    '),\n",
       " Document(metadata={'product_id': 'P010', 'product_name': 'Fairy Whisper Bouquet', 'price_rm': 90, 'blooms': 'Pink/Champagne Daisy, Pink/Champage Rose, White Rose, Ping Pong, Chamomile & Fillers', 'bouquet_size': 'Medium'}, page_content='Product Name: Fairy Whisper Bouquet\\nBest Occasion: Apology\\nProduct Description: Enter the enchanting world of the Fairy Whisper Bouquet, where pink/champagne roses, white rose, pink/champagne daisy, ping pong, chamomile, and delicate fillers combine in a symphony of beauty and meaning. Each flower in this bouquet tells a story, adding depth and sentiment to every petal.\\n\\nTwo stalks of Pink/Champagne Roses, with their soft hue and gentle fragrance, symbolize admiration and appreciation. They convey heartfelt emotions, making them perfect for expressing love and admiration towards someone special.\\nWhite Rose, standing alone amidst the pink blooms, represents purity, innocence, and new beginnings. It adds a touch of elegance and sincerity to the bouquet, signifying everlasting love and unity.\\nPink/Champagne Daisy brings a sense of joy and playfulness to the arrangement. They symbolize innocence, youthfulness, and cheerfulness making them ideal for celebrating friendship or sending wishes of happiness.\\nChamomile known for its calming properties and delicate appearance, signifies relaxation, peace, and tranquility.\\nWhether you’re celebrating a birthday, anniversary, or simply want to brighten someone’s day, the Fairy Whisper Bouquet is a captivating choice.\\n\\nOrder now to bring beauty and charm into your world instantly, and let its timeless elegance speak volumes about your feelings.\\n    '),\n",
       " Document(metadata={'product_id': 'P011', 'product_name': 'Lil Adorie', 'price_rm': 50, 'blooms': 'Tinted Rose and Baby Breath\\n', 'bouquet_size': 'Extra Small\\n\\n'}, page_content='Product Name: Lil Adorie\\nBest Occasion: Apology\\nProduct Description: Experience the cute Lil Adorie bouquet, wrapped in captivating Russian style, promising to evoke laughter, blushes, and flutters in your special someone during birthday or as an apology, all under RM100.\\n\\nA single stem with Tinted Roses and Baby’s Breath in shades of purple, blue, and pink holds unique symbolism for a birthday or an apology makeup session.\\n\\nShades of Purple represents admiration and respect. On a birthday, it shows your appreciation for the celebrant. For an apology makeup session, it signifies your sincere respect and desire to make amends.\\nShades of Blue represents trust and understanding. On a birthday, it conveys your trust in the celebrant’s character. For an apology makeup session, it represents your hope for a renewed understanding and trust between you and the other person.\\nShades of Pink symbolizes gratitude and happiness. On a birthday, it expresses your thankfulness for the person’s presence in your life. For an apology makeup session, it signifies your desire for a happy and harmonious resolution.\\nConclusion? The charming Lil Adorie bouquet, under RM100, is sure to uplift the beautiful spirit of your special someone!\\n    '),\n",
       " Document(metadata={'product_id': 'P012', 'product_name': 'Lil Love Bouquet', 'price_rm': 80, 'blooms': 'Ocean Song, Champagne Rose, White Rose, Red Rose or Yellow Rose', 'bouquet_size': 'Extra Small\\n'}, page_content='Product Name: Lil Love Bouquet\\nBest Occasion: Apology\\nProduct Description: Lil Love Bouquet is a cutie and charming gift, ideal for someone birthday celebration or as a heartfelt apology, all below RM100!\\n\\nThis bouquet features a single stalk of Roses of purple, champagne, white, red or yellow. Each rose holds it’s own unique meaning, making it an ideal gift for birthdays or heartfelt apologies.\\n\\nThis charming bouquet, a delightful surprise that’s sure to uplift their beautiful spirit! And the best part? It’s all below RM100!\\n    '),\n",
       " Document(metadata={'product_id': 'P013', 'product_name': 'Be My Babe Bouquet', 'price_rm': 280, 'blooms': 'Imported Cappuccino Rose, Red Rose and Baby blue', 'bouquet_size': 'Medium'}, page_content='Product Name: Be My Babe Bouquet\\nBest Occasion: Birthday\\nProduct Description: Let’s spice up the birthday celebration with the stunning ‘Be My Babe’ Bouquet. This arrangement is a beautiful tribute to the bonds that bring joy to your life.\\n\\nThe imported Cappuccino Rose is perfect for a birthday, expressing comfort and affection. For friendship, it reflects the comfort and companionship shared with your dear friend, nurturing the bond over time.\\nImported Taj Mahal Red Rose is a passionate choice for a special birthday, symbolizing the depth of emotion and admiration for the receiver. For a friend, it speaks of the strong connection that mirrors the intensity and loyalty of this alluring bloom.\\nThe Baby Blue Eucalyptus is a serene addition to birthdays that offers a sense of calm and tranquillity.\\nThese blooms speak of love, admiration, and the joy of all the incredible moments, thus making it a heartfelt gift for those you hold dear.\\n    '),\n",
       " Document(metadata={'product_id': 'P014', 'product_name': 'Dreamy Lilac Bouquet', 'price_rm': 400, 'blooms': 'Quicksand Ecuador Imported Rose, Ocean Song Rose, White Eustoma, White Ping Pong, Oxypetalum, Matthiola and Panicum\\n', 'bouquet_size': 'Medium\\n'}, page_content='Product Name: Dreamy Lilac Bouquet\\nBest Occasion: Birthday\\nProduct Description: This magical Dreamy Lilac bouquet enchants in retirement celebrations and a heartwarming friendship moments. Each flower narrates a tale for the receiver.\\n\\nThe Quicksand Ecuador Rose shows your appreciation while bidding a heartfelt farewell to retiring colleagues or friends. Meanwhile, Ocean Song Rose mesmerizes with its deep petals, symbolizing the unique bond that you both has shared, like the ocean’s harmonious colors.\\nWhite Eustoma exudes grace, a token of admiration for the receiver’s accomplishments. You are proud of them. White Ping Pong blooms signify sincere connections over the years, fostering your lasting friendships!\\nOxypetalum brings prosperity and good luck.  You are wishing them an abundant success and blessings, and Matthiola represents happy memories in retirement.\\nThe Panicum symbolizes new horizons and your support as a friend while they embark on this exciting phase of life.\\nWith the Dreamy Lilac Bouquet, you celebrate the retirement with a flourish of color and emotion. It’s not merely a bouquet of flowers, but a tapestry of stories incorporate together – the stories of success, gratitude, camaraderie, and everlasting friendship.\\n\\n \\n    '),\n",
       " Document(metadata={'product_id': 'P015', 'product_name': 'Elsa Rose Bouquet', 'price_rm': 200, 'blooms': '12 stalks of Elsa Roses\\n', 'bouquet_size': 'Medium\\n'}, page_content='Product Name: Elsa Rose Bouquet\\nBest Occasion: Birthday\\nProduct Description: The Elsa Rose Bouquet is a timeless expression of love and passion. Twelve stunning Elsa Roses form the heart of this arrangement, each petal radiating with beauty and grace.\\n\\nElsa Roses symbolize admiration, gratitude, and gentle affection, making them the perfect choice for celebrating any occassion for your girl.\\nThey are not only visually stunning but also carry a powerful message of love and devotion.\\nThis bouquet is more than just flowers; it’s a declaration of love. Imagine the delight on your loved one’s face as they receive this breathtaking bouquet.\\nDon’t miss this opportunity to create a lasting memory. Order your bouquet now and experience the magic of love.\\n    '),\n",
       " Document(metadata={'product_id': 'P016', 'product_name': 'Graceful Tulips Bouquet', 'price_rm': 260, 'blooms': 'White & Pink Tulips', 'bouquet_size': 'Medium'}, page_content='Product Name: Graceful Tulips Bouquet\\nBest Occasion: Birthday\\nProduct Description: The graceful Tulips bouquet is a reminder that birthdays mark the growth of the soul, and friendships are the woven fabric of life’s connection. The delicate pink and white tulips dancing in the bouquet will warm the receiver’s heart instantly!\\n\\nWhat is so special about this tulip flower? Yeah, it might look plain, yet it is a genuine expression that communicates your boundless feelings.\\n\\nFirst, the gentle shades of Pink Tulips deliver your admiration and gratitude to the receiver. This flower mirrors the enduring connection of friendship that has withstood the trials of time.\\nAs one is gazing at the White Tulips, their pure beauty brings freshness and new beginnings to mind. White tulips embody the spirit of birthdays as chances for a fresh start and aspirations renewal.\\nWould these be the message you want to deliver to your receiver? Does the message of the graceful tulips strengthen your friendship bond in your opinion?\\n\\nThen, embrace the graceful tulips as the floral gift that you can present of feelings unspoken yet deeply understood.\\n    '),\n",
       " Document(metadata={'product_id': 'P017', 'product_name': 'Just For You Bouquet', 'price_rm': 380, 'blooms': 'Quicksand Ecuador Imported Rose, Imported Cappuccino Rose, Trachymene, Panicum and Baby Blue', 'bouquet_size': 'Large'}, page_content='Product Name: Just For You Bouquet\\nBest Occasion: Birthday\\nProduct Description: Get to know the fabulous ‘Just for You‘ bouquet! Celebrating life & laughter for birthdays, retirements & friendships\\n\\nGet ready for the star flower – Quicksand Ecuador Imported Rose! Extremely charming with s symbol of appreciation and affection.\\nWhen pairing with Imported Cappuccino Rose, the duo adds a dash of sophistication! Both star flowers are here to impress the receiver!\\nBut that’s not all! We have the Trachymene– an aura of dreams that’ll make you feel like you’re walking on air. And the Panicum? Oh, it’s all about the wild spirit, stoking passion within you!\\nAnd how can we forget the adorable Baby Blue? Its name says it all – it’s like a warm hug from a dear friend, bringing comfort and joy wherever it goes.\\nWhether for birthdays bash, a well-deserved retirements party, or simply a moment to cherish the bonds of friendships! ‘Just for You’ bouquet is your ticket to spreading happiness and make life beautiful.\\n    '),\n",
       " Document(metadata={'product_id': 'P018', 'product_name': 'Lavender Love Bouquet', 'price_rm': 300, 'blooms': 'Ocean Song, Purple Carnation, Purple Ping-Pong, White Gerbera, Light Pink Rose Spray, Pink Eustoma, Alstroemeria, Cinerea and Panicum', 'bouquet_size': 'Large'}, page_content='Product Name: Lavender Love Bouquet\\nBest Occasion: Birthday\\nProduct Description: Celebrate the joy of a birthday with the Lavender Love Bouquet. This merry arrangement is a heartfelt way to convey your warmest wishes to that special someone. Each flower in this bouquet carries a meaning, making the birthday celebration even more meaningful!\\n\\nOcean Song: Like the waves, sending these blooms is like sharing a moment of serenity with your friend! A great reminder for them to find peace and contentment on their special day.\\nPurple Carnation shows your gratitude. With these flowers, you’re expressing how much you value your friend! In addition, how thankful you are for their presence in your life.\\nPurple ping-pong flowers bring playfulness to the bouquet. They represent the fun and laughter you both have shared over the years.\\nWhite gerbera daisies are the flower of wishing your friend a day full of happiness and a heart free of worries.\\nLight pink roses remind the birthday person of how sweet they are on the softer side.\\nPink Eustoma is the blooms of saying “thank you” for the wonderful memories we both have created together.\\nAlstroemeria symbolizes enduring bond and prosperity.\\nCinerea and Panicum frame the bouquet with a reminder of the journey and the many exciting experiences still to come.\\nWith Lavender Love Bouquet, you’re gifting a collection of sentiments that reflect the beauty of your friends and the heartfelt birthday wishes you have for them.\\n    '),\n",
       " Document(metadata={'product_id': 'P019', 'product_name': 'By Our Side Stand', 'price_rm': 500, 'blooms': 'White Lilies, Gerbera Daisies, White Pom Pom, White Ping Pong, Chrysanthemum, Caspia, Cinerea, Cordyline and Monstera', 'bouquet_size': 'Medium/Large'}, page_content='Product Name: By Our Side Stand\\nBest Occasion: Condolence \\nProduct Description: In moments of sorrow, extending condolence and sympathy can bring a ray of solace like nothing else. That’s where the By Our Side stand comes in. Let’s discover how this stand can offer comfort and support to the grieving family.\\n\\nWhite Lilies symbolize purity and innocence, providing solace and a sense of peace. In contrast, Gerbera Daisies represent brightness and hope, infusing a touch of optimism even during the most sorrowful moments.\\n White Pom Pom flowers symbolize reverence and honour, a heartfelt tribute to the departed and their cherished memory. In parallel, White Ping Pong blossoms convey purity and sincerity, extending heartfelt condolences and unwavering support.\\nNext, Chrysanthemums symbolize loyalty and friendship, standing by the grieving family in solidarity. In addition, Caspia’s delicate presence adds a touch of thoughtfulness from the sender to the arrangement.\\nCinerea: Cinerea foliage provides texture and depth, symbolizing the lasting impact of the departed.\\nCordyline: Cordyline leaves represent respect and honour, underlining the importance of the moment.\\nMonstera: Monstera leaves, with their unique appearance, symbolize the unique and enduring memories of the loved one.\\nTogether, these flowers and elements weave a condolence and sympathy arrangement that extends comforting support!\\n    '),\n",
       " Document(metadata={'product_id': 'P020', 'product_name': 'Deepest Condolences Stand', 'price_rm': 500, 'blooms': 'White Lilies, Gerbera Daisies, Chrysanthemum, White Ping Pong, Purple Carnations, Caspia, Cordyline and Monstera', 'bouquet_size': 'Medium/Large'}, page_content='Product Name: Deepest Condolences Stand\\nBest Occasion: Condolence \\nProduct Description: During sad times, when you can only offer condolences and sympathy, the Deepest Condolences flower stand is a source of comfort and solace.\\n\\nAt the heart of this elegant arrangement are the White Lilies, representing the purity of the departed soul and the innocence that remains.\\nGerbera Daisies stand for the happy memories of the departed soul, forever cherished.\\nThe Chrysanthemum mirrors the genuine sorrow you feel.\\nAmid these emotions, the White Ping Pong blooms light the way to healing.\\nPurple Carnations express admiration and gratitude for the departed’s impact on your lives.\\nMeanwhile, the Caspia signifies the everlasting remembrance of a bond that time cannot weaken.\\nNext, the Cordyline is a reminder of strength and support, acknowledging that you stand united with the grieving family.\\nFinally, the Monstera leaves to remind us that beauty and growth endure even in the face of loss.\\n    '),\n",
       " Document(metadata={'product_id': 'P021', 'product_name': 'Gentle Goodbye Bouquet', 'price_rm': 90, 'blooms': 'Gerbera Daisy, Chrysanthemum, White Anastasia, White PomPom, White Ping Pong and Fillers', 'bouquet_size': 'Small'}, page_content='Product Name: Gentle Goodbye Bouquet\\nBest Occasion: Condolence \\nProduct Description: Get to know our mini version of sympathy flowers – the Gentle Goodbye Bouquet! A compassionate bouquet to convey condolences and solace in the moments of loss.\\n\\nEach Gerbera Daisy symbolizes the brightness and warmth that the departed brought into our lives. It is reminding us of the joy they have once shared.\\nChrysanthemums represent loyalty and support, while offering strength to those in mourning and a reminder that friends and family are here united in sympathy.\\nMeanwhile, White Anastasia flowers express purity and innocence. These flowers are honouring the memory of the departed soul with the serenity of their journey.\\nMeanwhile, White Ping Pong is a type of famous sympathy flowers that signify a farewell filled with peace and grace! An absolute bloom offering solace and a sense of closure.\\nThis Gentle Goodbye Bouquet speaks the unspoken words of sympathy and offers a beautiful way to express your condolences! A small powerful gift sharing the message that you are there to support and comfort during this challenging moment.\\n    '),\n",
       " Document(metadata={'product_id': 'P022', 'product_name': 'Graceful Solace Stand', 'price_rm': 500, 'blooms': 'Pink Hydrangea, Pink Lilies, White Eustoma, Anastasia, Chrysanthemum, White Ping Pong and Cinerea', 'bouquet_size': 'Medium/Large'}, page_content='Product Name: Graceful Solace Stand\\nBest Occasion: Condolence \\nProduct Description: During times of condolence and sympathy, this Graceful Solace Flower Stand is a respectful tribute! A floral stand provides comfort and support when words fall short.\\n\\nPink hydrangeas represent heartfelt emotions and genuine empathy. Their soft colour offers a touch of solace and understanding to those in mourning.\\nPink Lilies symbolize the restoration of innocence of the soul. This flower embodies the purity and grace during the times of loss. Their presence serves as a reminder that even in sorrow, there is beauty and tranquillity.\\nWhite eustomas convey appreciation and a sincere acknowledgment of the grieving family’s feelings. They bring a sense of calmness and understanding, offering a gentle embrace of support.\\nAnastasia’s flowers represent resurrection and new beginnings. Their presence speaks of hope and the continuation of life’s journey.\\nChrysanthemums symbolize both sympathy and support. These flowers provide a way to express your shared sorrow while also offering strength and comfort to the grieving family.\\nWhite ping pong blooms signify a sense of peace and honour. Their elegant simplicity brings a quiet reassurance to the stand, allowing for a moment of reflection and remembrance.\\nCinerea adds a touch of greenery, symbolizing endurance and eternal memory. It represents the everlasting love that will remain in the hearts of those left behind.\\nThrough Graceful Solace Stand, you can convey your sincere condolence and pay tribute to the cherished memory of a dear one who has departed.\\n    '),\n",
       " Document(metadata={'product_id': 'P023', 'product_name': 'In Loving Memory Stand', 'price_rm': 500, 'blooms': 'Blue Hydrangea, Ocean Song Rose, Pink Alstroemeria, White Ping Pong, Anastasia, Chrysanthemum, Monstera and Fillers\\n', 'bouquet_size': 'Medium/Large'}, page_content='Product Name: In Loving Memory Stand\\nBest Occasion: Condolence \\nProduct Description: Introducing our In Loving Memory Stand, a heartfelt condolence flower crafted with care to offer solace and support during times of loss.\\n\\nBlue Hydrangeas symbolize heartfelt emotions, providing comfort and understanding to those in mourning.\\nOcean Song Roses represent enduring love, while Pink Alstroemerias signify lasting friendship.\\nWhite Ping Pongs offer peace and tranquility, and Anastasias represent new beginnings.\\nChrysanthemums honor loved ones, Monstera leaves symbolize enduring legacy, and fillers bind us together in unity and support.\\nBring solace to those who grieve with our In Loving Memory Stand. Whether it’s for someone who has lost a loved one or as a tribute to your own cherished memories, let this condolence flower serve as a heartfelt expression of love and remembrance.\\n    '),\n",
       " Document(metadata={'product_id': 'P024', 'product_name': 'Peaceful Heaven Stand', 'price_rm': 290, 'blooms': 'White Daisy Gerbera, White Chrysanthemum, White Ping Pong, White Anastasia and Filler', 'bouquet_size': 'Medium/Large'}, page_content='Product Name: Peaceful Heaven Stand\\nBest Occasion: Condolence \\nProduct Description: Peaceful Heaven Stand Description\\nThe Peaceful Heaven Stand offers a serene expression of sympathy during difficult times. This beautiful condolence flower stand features an elegant combination of white blooms, each carefully chosen for their symbolism and beauty.\\n\\nAt the forefront, the White Daisy Gerbera radiates innocence and purity, reminding us of the cherished memories shared with loved ones. As we look closely, the White Chrysanthemum adds a touch of reverence, symbolizing loyalty and enduring love. These flowers convey a heartfelt message, allowing you to express your deepest sympathies.\\nTransitioning to the unique White Ping Pong, this flower adds texture and a delicate elegance to the arrangement. Its spherical shape represents unity and the cycle of life, gently reminding us that while we mourn, we also celebrate the life that was lived.\\nFurthermore, the inclusion of White Anastasia enhances the overall arrangement with its graceful petals, symbolizing truth and honesty. This flower embodies the spirit of remembrance, serving as a beautiful tribute to the life of the departed.\\nTo soften and complement this exquisite combination, we have included delicate filler flowers, which create a lush backdrop, allowing the main blooms to shine. The fillers signify the small, yet significant, moments that hold profound meaning.\\nIn conclusion, the Peaceful Heaven Stand serves not only as a stunning floral tribute but also as a heartfelt expression of support during a time of loss. As you consider how best to convey your condolences, this arrangement stands out as a perfect choice.\\n    '),\n",
       " Document(metadata={'product_id': 'P025', 'product_name': 'Blue Eclipse Bouquet', 'price_rm': 400, 'blooms': 'Ecuador Rose\\n\\n', 'bouquet_size': 'Medium'}, page_content='Product Name: Blue Eclipse Bouquet\\nBest Occasion: For Him\\nProduct Description: The Blue Eclipse Bouquet is the perfect way to express your most sincere emotions. Featuring the rare and premium Ecuador Rose, this bouquet is a breathtaking symbol of mystery, uniqueness, and eternal love.\\n\\nBlue roses are incredibly rare, and their striking color makes them a coveted gift. Receiving one of these extraordinary roses will make anyone feel cherished and unforgettable.\\n\\nThe Ecuador Rose is a symbol of the unattainable, making it a perfect choice for someone special who holds an important place in your heart. Its color represents the mystical and enigmatic qualities of love—something deep and beyond the ordinary. The rare blue hue stands out as a symbol of love that is not just common but unique, just like your feelings for her (or him).\\n\\nWrapped in elegant silver paper, the Blue Eclipse Bouquet exudes sophistication, making it the perfect gift for any occasion, from anniversaries to romantic gestures. The silver wrapping enhances the bouquet’s rarity and allure, adding a touch of luxury that will leave a lasting impression.\\n\\nThis bouquet isn’t just about the flowers—it’s about the unforgettable experience of receiving something truly exceptional. Whether you’re giving it to your partner, friend, or even as a gift to yourself, the Blue Eclipse Bouquet is a statement of love, rarity, and elegance.\\n\\nShow them how much they mean to you with a gift as unique as your feelings. Order now and make an unforgettable gesture with the Blue Eclipse Bouquet. A rare, beautiful gift that will be cherished forever.\\n    '),\n",
       " Document(metadata={'product_id': 'P026', 'product_name': 'Cheers to Dad Bouquet\\n', 'price_rm': 145, 'blooms': 'Carlsberg Beer, Cotton Flower, Baby Breath, and Fillers', 'bouquet_size': 'Small'}, page_content='Product Name: Cheers to Dad Bouquet\\n\\nBest Occasion: For Him\\nProduct Description: Cheers to Dad Bouquet, a delightful addition to our Father’s Day flower collection! This unique bouquet combines traditional blooms with a playful twist, making it the perfect gift for the dad who loves a good brew.\\n\\nCotton Flower: Represents comfort, warmth, and nurturing, symbolizing the softness and care of a father’s love.\\nBaby’s Breath: Signifies purity, innocence, and everlasting love, embodying the bond between father and child that lasts a lifetime.\\nFiller (Greenery): Symbolizes growth, vitality, and abundance, representing the flourishing relationship between a father and his family, filled with love and support.\\nWith its refreshing blend of florals and hops, this bouquet is sure to bring a smile to your dad’s face. So why wait? Raise a glass and celebrate Father’s Day in style with the Cheers to Dad Bouquet!\\n    '),\n",
       " Document(metadata={'product_id': 'P027', 'product_name': 'Chocolove Bouquet\\n', 'price_rm': 180, 'blooms': 'Baby Breath, 8 Ferrero Chocolates\\n\\n', 'bouquet_size': 'Small'}, page_content='Product Name: Chocolove Bouquet\\n\\nBest Occasion: For Him\\nProduct Description: Surprise your loved one with a decadent twist on a classic bouquet! The Chocolove Bouquet is a delightful arrangement that combines everyone’s favorite indulgence – Ferrero Rocher chocolates – with the delicate charm of baby breath.\\n\\nBut what truly makes the Chocolove Bouquet the perfect gift for anyone? It’s the universal language of love expressed through deliciousness!\\n\\nWhether it’s for your mom who deserves a little pampering, your best friend celebrating a promotion, or even a coworker you want to thank for their support, this bouquet speaks volumes.\\nRich chocolates and delicate flowers create a gift that’s both luxurious and heartfelt, guaranteed to put a smile on anyone’s face.\\nAnd let’s not forget the photo opportunity! This bouquet is guaranteed to be Instagram-worthy.\\nSo why settle for ordinary when you can give the extraordinary? The Chocolove Bouquet is the perfect gift for anyone, a delicious treat that doubles as a stunning centerpiece for unforgettable memories.\\n\\nDon’t wait – order yours today and create a moment that will be cherished forever!\\n    '),\n",
       " Document(metadata={'product_id': 'P028', 'product_name': 'Ethan Bouquet\\n', 'price_rm': 180, 'blooms': 'Champagne Roses, Orange Rose Spray, White Eustoma, Champagne Eustoma, Blue Tinted Carnation, Panicum and Fillers', 'bouquet_size': 'Medium'}, page_content='Product Name: Ethan Bouquet\\n\\nBest Occasion: For Him\\nProduct Description: Ethan bouquet unfolds a tale of love and everlasting beauty with timeless elegance to enhance for the receiver’s birthday celebration.\\n\\nChampagne Roses represent excitement, joy, and happiness. They’re the heart and soul of the celebration, making any every birthday bash.\\nOrange Rose Spray signify love capturing the essence of cherished relationship.\\nWhite Eustoma represent thoughtfulness and the promise of new beginnings. During a birthday celebration, heartfelt wishes are shared for a fresh year ahead.\\nTinted Blue Carnation embodies your affection, conveying a heartfelt message to the receiver, expressing gratitude for your presence in my life.”\\nOrder now and surprise them a gift of everlasting love!\\n    '),\n",
       " Document(metadata={'product_id': 'P029', 'product_name': 'Midnight Rose Bouquet', 'price_rm': 180, 'blooms': 'Black Tinted Soap Rose\\n\\n', 'bouquet_size': 'Small'}, page_content='Product Name: Midnight Rose Bouquet\\nBest Occasion: For Him\\nProduct Description: Who says flowers are only for women? The Midnight Rose Bouquet is here to break that stereotype. Featuring black-tinted soap roses, this bold and unique bouquet is the perfect gift for the special guy in your life. Whether you’re a girlfriend looking to surprise your boyfriend or a mother wanting to give your son something different for his birthday, this bouquet is a statement that flowers are for everyone.\\n\\nMen often only receive flowers when it’s too late to appreciate them. So, why wait for such a moment? Give them the gift of appreciation, love, and respect while they can still enjoy it. The Midnight Rose Bouquet speaks volumes, offering a rare and powerful way to show your feelings. These black-tinted roses symbolize strength, mystery, and love—qualities that resonate deeply with many men.\\n\\nA gift like this is not just about the roses; it’s about challenging tradition and showing that love can be expressed in unexpected ways. Giving a bouquet to a man doesn’t make them less masculine—it makes your gesture even more meaningful, as it shows thoughtfulness, creativity, and a deep appreciation for him.\\n\\nWhether for a birthday, anniversary, or just because, the Midnight Rose Bouquet is a memorable way to let him know he’s loved. It’s a gift that speaks to the heart, making a bold statement and leaving a lasting impression.\\n\\nOrder now to give a one-of-a-kind gift that will truly surprise and delight. Let the Midnight Rose Bouquet show him how special he really is.\\n    '),\n",
       " Document(metadata={'product_id': 'P030', 'product_name': 'My Hero Bouquet\\n', 'price_rm': 145, 'blooms': '1664 Beer, Soap Cappucino Rose, Baby Breath, and Fillers\\n\\n', 'bouquet_size': 'Small'}, page_content='Product Name: My Hero Bouquet\\n\\nBest Occasion: For Him\\nProduct Description: Introducing the My Hero Bouquet, a standout choice from our exclusive Father’s Day flower collection! This bouquet is more than just flowers; it’s a heartfelt tribute to the superhero in your life.\\n\\nSoap Cappuccino Rose: With its warm hues and rich aroma, the soap cappuccino rose embodies admiration, gratitude, and deep affection, expressing profound appreciation for Dad’s love and guidance.\\nBaby’s Breath: These delicate blooms symbolize purity, innocence, and everlasting love, reflecting the cherished memories and enduring bond between father and child.\\nFillers (Greenery): Representing growth, vitality, and abundance, the fillers in this bouquet symbolize the flourishing relationship between a father and his family, filled with love and unwavering support.\\nWith its unique blend of blooms and beverages, the My Hero Bouquet is a heartfelt way to show appreciation to your dad.\\n\\nWhether he’s your role model, protector, or simply your rock, this bouquet celebrates his unwavering strength and love. So why wait? Honor your hero in the most beautiful way possible with the My Hero Bouquet this Father’s Day!\\n    '),\n",
       " Document(metadata={'product_id': 'P031', 'product_name': 'Lavish Money Bouquet', 'price_rm': 6480, 'blooms': 'Caspia, Baby’s Breath\\n\\n', 'bouquet_size': 'Large'}, page_content='Product Name: Lavish Money Bouquet\\nBest Occasion: Wealth and Prosperous\\nProduct Description: Introducing the Lavish Money Bouquet – a bold and unique gift that combines beauty and wealth in one stunning arrangement. This isn’t your typical flower bouquet. Instead, it’s a money bouquet designed to impress, surprise, and send a powerful message. Available in three eye-catching colors – blue, pink, and black – this bouquet duit is perfect for anyone who deserves something extraordinary.\\n\\nWhy settle for just flowers when you can have more? Each color represents a different level of luxury, and yes, the color you choose directly affects the amount of money in the bouquet. For example, the blue and black bouquets come with the added touch of delicate Caspia, while the pink bouquet is adorned with soft, beautiful Baby’s Breath. These flowers aren’t just there for decoration – they symbolize prosperity, growth, and elegance.\\n\\nHere’s the kicker: This money bouquet isn’t only for your girlfriend or wife. It’s a versatile gift that can be given to anyone. Want to wish a friend prosperity and success? The Lavish Money Bouquet is perfect for that too. Whether you’re celebrating a birthday, an anniversary, or a special achievement, this bouquet delivers more than just a stunning visual; it delivers a message of good fortune and wealth.\\n\\nNot to mention, a money bouquet like this speaks volumes. It’s a statement gift – one that shows you care, you’re generous, and you want the best for someone special. So why not go ahead and treat your loved ones (or even yourself) to the extravagant charm of the Lavish Money Bouquet? It’s the perfect blend of style and substance, available in the color and amount that suits your gift-giving needs. Don’t miss out on this bold, yet meaningful gesture of love and prosperity.\\n    '),\n",
       " Document(metadata={'product_id': 'P032', 'product_name': 'Hana Money Bouquet', 'price_rm': 4650, 'blooms': 'Baby’s Breath\\n\\n', 'bouquet_size': 'Large'}, page_content='Product Name: Hana Money Bouquet\\nBest Occasion: Wealth and Prosperous\\nProduct Description: Why settle for chocolates or a teddy bear when you can give something that truly shows how much you care? The Hana Money Bouquet is not just a gift — it’s a statement. This money bouquet speaks louder than any cliché present ever could. It’s bold, it’s thoughtful, and it’s everything a love gift should be.\\n\\nSure, flowers are nice, but money says something different: It says you’re serious about their future. With baby’s breath added to the bouquet, it softens the message. The baby’s breath symbolizes everlasting love and fidelity, but in the context of this money bouquet, it’s a reminder that love doesn’t have to be all about flowers and empty promises. Sometimes, it’s about building a future together.\\n\\nLet’s be honest: who wouldn’t want a bouquet of cash? It’s practical, luxurious, and undeniably meaningful. Hana Money Bouquet is for those who know that love isn’t about grand gestures — it’s about doing what’s right for both of you, now and in the future. A gift like this doesn’t just say “I love you”; it says “I’m ready to invest in us.”\\n\\nHere’s the real kicker: pre-order now before it’s too late. You’re not going to find something like this everywhere. So, if you want to go above and beyond, stop with the ordinary. Give the gift that speaks volumes: Hana Money Bouquet. Order now — love is worth it.\\n    '),\n",
       " Document(metadata={'product_id': 'P033', 'product_name': 'Infinite Love Money Bouquet', 'price_rm': 11715, 'blooms': 'Baby’s Breath\\n\\n', 'bouquet_size': 'Large'}, page_content='Product Name: Infinite Love Money Bouquet\\nBest Occasion: Wealth and Prosperous\\nProduct Description: The Infinite Love Money Bouquet is a truly unforgettable gift that blends romance and prosperity in the most extraordinary way. This luxurious money bouquet is a powerful symbol of your deep affection and commitment. It’s more than just money; it’s a statement of love that will leave a lasting impression.\\n\\nWrapped in the soft elegance of baby’s breath, the bouquet is as delicate as your love, offering a perfect balance between beauty and wealth. Whether it’s for an anniversary, a birthday, or a special celebration, the Infinite Love Money Bouquet speaks louder than words ever could. It’s the ultimate bouquet duit for those who want to show how far they’re willing to go for someone special.\\n\\nLet’s face it: love isn’t always about flowers and chocolates. Sometimes, it’s about going big — showing your loved one that they mean the world to you. With this money bouquet, you’re not just giving a gift; you’re giving an experience, one that combines financial freedom with heartfelt sentiment. It’s bold, it’s meaningful, and it’s definitely unforgettable.\\n\\nBut here’s the catch: this exclusive bouquet is limited. If you want to surprise someone with something truly extraordinary, pre-order now before it’s too late. Don’t let this opportunity slip through your fingers — this bouquet duit is in high demand, and once it’s gone, it’s gone.\\n    '),\n",
       " Document(metadata={'product_id': 'P034', 'product_name': 'Deep Love Money Bouquet', 'price_rm': 15600, 'blooms': 'Baby’s Breath\\n\\n', 'bouquet_size': 'Large'}, page_content='Product Name: Deep Love Money Bouquet\\nBest Occasion: Wealth and Prosperous\\nProduct Description: The Deep Love Money Bouquet is the ultimate gift for showing love, luxury, and lasting affection. It’s a thoughtful way to express your love, while also wishing prosperity and success for that special someone.\\n\\nEach cash rose is symbolizing not only love but also the hope for a bright and prosperous future. The design of this money bouquet transforms the cash into elegant roses, representing both beauty and financial growth. This combination of wealth and affection makes the Deep Love Money Bouquet a meaningful and unforgettable gift.\\n\\nTo add an extra layer of sentiment, the bouquet also includes baby’s breath flowers, which symbolize purity and everlasting love. These delicate flowers complement the boldness of the cash roses, creating a balanced and beautiful arrangement. Whether it’s for an anniversary, birthday, or just because, the Deep Love Money Bouquet is a perfect way to show how deeply you care.\\n\\nThis bouquet duit is not only a practical gift but also a lasting keepsake. Your loved one will cherish both the thoughtfulness behind the gift and the beauty of the arrangement. It’s more than just money; it’s a symbol of your commitment to their happiness and success.\\n    '),\n",
       " Document(metadata={'product_id': 'P035', 'product_name': 'Crown Money Bouquet', 'price_rm': 6480, 'blooms': 'Baby’s Breath\\n\\n', 'bouquet_size': 'Large'}, page_content='Product Name: Crown Money Bouquet\\nBest Occasion: Wealth and Prosperous\\nProduct Description: Why settle for ordinary when you can give a gift that truly stands out? The Crown Money Bouquet is for those who dare to be different, combining luxury, practicality, and a touch of boldness. \\n\\nLet’s face it: sometimes, a gift of cash speaks louder than flowers. The Crown Money Bouquet embraces this idea by turning money into something beautiful and meaningful. In a world where practicality and sentiment often clash, this bouquet brings them together in a unique way. Whether it’s for a wedding, birthday, or any special occasion, it’s a gift that says, “I care about you, and I want to give you something that has real value.\\nBaby’s breath is a delicate flower that often represents purity, innocence, and everlasting love. It’s commonly used in bouquets to symbolize a gentle, pure affection that transcends time. When paired with money, it takes on an additional meaning of heartfelt wishes for the recipient’s continued growth, success, and happiness. Baby’s breath speaks of emotional support, and when combined with money, it implies that the gift giver wishes not just for material well-being but for emotional fulfillment and prosperity as well.\\n    '),\n",
       " Document(metadata={'product_id': 'P036', 'product_name': 'Blissful Basket\\n', 'price_rm': 300, 'blooms': 'Pastel Pink Carnation, Red Rose, White Eustoma, Red Rose Spray and Baby Blue', 'bouquet_size': 'Medium\\n\\n\\n'}, page_content='Product Name: Blissful Basket\\n\\nBest Occasion: Get Well Soon\\nProduct Description: Extend your warmest wishes for retirement and get well soon occasion with this heartwarming Blissful Basket. Each bloom holds a special meaning that resonates perfectly with these moments.\\n\\nPastel Pink Carnation offers a gentle touch, ideal for expressing your appreciation to the retiree. These blooms convey a sense of respect for their journey and the contributions they’ve provided.\\nThe Red Roses in the basket embody deep emotions and well wishes. Their vibrant colour signifies love and support, making them a perfect addition to uplift someone’s spirits during recovery.\\nWhite Eustoma shows your appreciation and sincere gratitude. Placing these elegant blooms in the basket communicates your heartfelt thanks for their dedication or a speedy recovery.\\nThe Red Rose Spray adds a dash of positivity. Its lively appearance is a reminder of the strength and resilience needed in times of change or healing.\\nBaby Blue Accents: They’re a way to convey serenity and peaceful thoughts to retirees and those on the path to recovery.\\nWith this flower basket, it is an ultimate sentiment that aligns with new journey into retirement, or a comforting gesture to wish someone get well occasion.\\n    '),\n",
       " Document(metadata={'product_id': 'P037', 'product_name': 'Blissful Sunshine Basket', 'price_rm': 480, 'blooms': 'Lychee Roses, Sunflowers, Champagne Roses, Orange Rose Spray, Yellow Roses, Champagne Daisy, Champagne Chrysanthemum Pompom, Alstroemeria, Matthiola and Fillers', 'bouquet_size': 'Small'}, page_content='Product Name: Blissful Sunshine Basket\\nBest Occasion: Get Well Soon\\nProduct Description: Blissful Sunshine Basket is designed to infuse your person’s surroundings with a sense of happiness, positivity and breeze joy! Shower her with these cheerful flower basket which is a gem for memorable birthdays, grateful friendships, get-well-soon gifts or a glow for a business grand opening!\\n\\nLychee Rose exudes a charming aura where every moment becomes delightful. The iconic Sunflower is the main character that brings a warm glow to her heart.\\nThe vibrant yet lively Champagne Rose + Orange Rose Spray ignites a splash of contagious energy.\\nThe cheerful personality of Yellow Rose and sunny Gerbera reminds your loved one to savour life’s simple pleasures.\\nAlstroemeria brings depth to this arrangement. This bloom is a symbol of friendship & reminds one to appreciate the diverse beauty of life.\\nBaby Blue & Matthiola add a little dreamy touch with soft hues, a simple message to remind one that worries fade away & happiness goes on.\\nElevate the ambiance of the occasion with the bright and cheerful hues, symbolizing joy, growth, and success.  Blissful Sunshine Basket is the beacon of positivity and encouragement! Wishing the business grand opening every success under the golden rays of a blissful future!\\n    '),\n",
       " Document(metadata={'product_id': 'P038', 'product_name': 'Sparkle Sunshine Basket\\n', 'price_rm': 240, 'blooms': 'Sunflowers, Orange Rose Spray, Champagne Rose, Yellow Roses, Chamomile & Fillers\\n\\n', 'bouquet_size': 'Small'}, page_content='Product Name: Sparkle Sunshine Basket\\n\\nBest Occasion: Get Well Soon\\nProduct Description: Here comes the Sparkle Sunshine Basket with a super glowing effect on the mood! This uplifting get well soon flower for her shows your care and support during moments of vulnerability. On the side, it radiates joy for a grand opening occasion! Let’s us get into the flower arrangement:\\n\\nCheerful Sunflowers wish her a sunny path of recovery. Additionally, they mean something great is on the horizon, making them fitting for a grand opening event!\\nNext, the Orange Rose Spray shows energy and delivers a message: Get well soon with renewed vitality! As for the grand opening, this flower signifies a lively beginning for a business owner.\\nChampagne Rose shows up for a healing message that says, ”May your recovery be as special as this bloom”\\nNext, Yellow Roses are famous for friendship. It brings on a message – May your health improve with the care of friends. These roses also signify warm greetings & good fortune for a grand opening occasion!\\nLastly, a soothing touch from Chamomile wishes the receiver a calm recovery. It also represents comfort for a smooth grand opening occasion.\\nDoes this get well soon flower for her to ticks all the boxes for a caring gift to send for? Sparkle Sunshine Basket is here to demonstrate your thoughtfulness for the well-being of the person you definitely care for!!\\n    '),\n",
       " Document(metadata={'product_id': 'P039', 'product_name': 'Fruity Paradise Basket\\n', 'price_rm': 315, 'blooms': 'Pink Eustoma, Pink Rose, Champagne Daisy, and Fillers\\n\\n', 'bouquet_size': 'Small'}, page_content='Product Name: Fruity Paradise Basket\\n\\nBest Occasion: Get Well Soon\\nProduct Description: Welcome your next retiree with Fruity Paradise Basket, a delightful gift perfectly suited for both retirement celebration or get well soon occasion. Let’s explore how the flowers in this basket play a meaningful role in conveying your best wishes.\\n\\nThe Pink Eustoma flowers symbolize thoughtfulness, making them a lovely choice to wish someone a swift recovery during challenging times. Their soft, pink hues express care and support.\\nPink Roses, known for their warm and affectionate connotation, are ideal for celebrating the end of a fulfilling career in retirement. They also convey best wishes for a speedy recovery, embodying your heartfelt concern.\\nChampagne Gerbera Daisies add positivity to this basket, making them a suitable choice for both occasions. They symbolize hope and cheer, perfect for someone in need of encouragement and for marking the joyful transition into retirement.\\nNow, let’s talk about the fruits. They are not only delicious but with nutrients. These selected fruits offer a burst of energy and vital vitamins, which can be incredibly beneficial for someone on the path to recovery.\\n\\nAdditionally, the assortment of fruits serves as a wholesome and rejuvenating treat, supporting the recovery journey with a burst of nutritious goodness!\\n    '),\n",
       " Document(metadata={'product_id': 'P040', 'product_name': 'Sweet Harvest Basket\\n', 'price_rm': 385, 'blooms': 'Pink Hydrangea, Pink Carnation, Pink Rose, Ocean Song, Purple Rose, Chamomile, and Fillers', 'bouquet_size': 'Medium'}, page_content='Product Name: Sweet Harvest Basket\\n\\nBest Occasion: Get Well Soon\\nProduct Description: Introducing Sweet Harvest Basket, a heartwarming gift to convey your best wishes for both retirement and get well soon occasion.\\n\\nPink Hydrangeas represent appreciation, making them a wonderful choice for congratulating someone on their retirement. For those on the road to recovery, they bring comfort and hope.\\nNext, Pink Carnations symbolize admiration, a perfect way to honor a retiree’s achievements. In a get well soon context, they offer solace and encouragement.\\nMeanwhile, the Pink Roses signify warmth and affection, ideal for celebrating the end of a fulfilling career and sending healing vibes.\\nOcean Song Roses in this basket express gratitude and convey well wishes, making them suitable for retirement celebrations and wishing a speedy recovery.\\nPurple Roses symbolize deep appreciation, adding a touch of love and support for both occasions.\\nChamomile provides relaxation and comfort, making it an excellent choice for someone in need of soothing during recovery.\\nAll these flower arrangements in Sweet Harvest Basket speaks volumes of your care, love, and best wishes for a happy retirement and a swift return to good health.\\n    '),\n",
       " Document(metadata={'product_id': 'P041', 'product_name': 'All The Best Bouquet\\n', 'price_rm': 240, 'blooms': 'Sunflower, White Ping Pong, Champagne Roses, Gerbera Daisy, Baby Breath and Fillers\\n\\n', 'bouquet_size': 'Medium'}, page_content='Product Name: All The Best Bouquet\\n\\nBest Occasion: Graduation Bouquet\\nProduct Description: Hats off to you, graduate!!! All The Best Bouquet is here to celebrate the marvellous journey of success! This graduation flower bouquet presents:\\n\\nWhy Sunflower is in? This bloom shines on the grads and says, ”A sunny future awaits you”!\\nNext, there is White Ping Pong flower that applauds a fresh beginning. Its core message is ”You’re onto a fresh and promising new journey”\\nThen, we have Champagne Roses that signify achievement, and they raise a toast to your lovely graduates. The message is clear, ”Cheers to your well-deserved success”!\\nMeanwhile, your graduate’s accomplishments are as colourful yet lively as Gerbera Daisies! Don’t you agree?\\nAnd lastly, it’s the Baby Breath! This delicate flower whispers the message of – ”Your hard work pays off, and your dreams are in full bloom!”\\nAre there more wishes you want to convey? Let’s personalise your message and deliver it with this graduation flower bouquet! The graduate deserves your compliments in this meaningful celebration!\\n    '),\n",
       " Document(metadata={'product_id': 'P042', 'product_name': 'Best Wishes Bouquet\\n', 'price_rm': 300, 'blooms': 'Champagne Roses, Pink Roses, White Eustoma, Pink Carnation Spray, White Ping Pong, Baby’s Breath and Fillers\\n\\n', 'bouquet_size': 'Medium'}, page_content='Product Name: Best Wishes Bouquet\\n\\nBest Occasion: Graduation Bouquet\\nProduct Description: Dear graduates! As you continue to dream big and reach for the stars, let the Best Wishes Bouquet be your graduation bouquet ideas!\\n\\nChampagne Roses scream towards achievement and success, celebrating the graduates’ accomplishments.\\nPink Roses represent admiration and appreciation, conveying the love and support of friends and family.\\nThe White Eustoma signifies peace and new beginnings, marking the start of a new chapter in the graduates’ lives.\\nMeanwhile, Pink Carnation Spray symbolize gratitude and admiration, expressing thanks for the graduates’ hard work.\\nWhite Ping Pong flowers represent purity and clarity, offering encouragement for a bright and clear future.\\nFinally, Baby’s Breath embodies everlasting love and purity, symbolizing the lasting bonds created during the academic journey.\\nCollectively, the Best Wishes Bouquet, as graduation bouquet ideas, embodies the feelings of success, appreciation, and new beginings.\\n    '),\n",
       " Document(metadata={'product_id': 'P043', 'product_name': 'Cap and Bloom Bouquet\\n', 'price_rm': 192, 'blooms': 'Soap Sunflowers, Soap Pink Roses/Soap Blue Roses and Fillers\\n\\n', 'bouquet_size': 'Medium'}, page_content='Product Name: Cap and Bloom Bouquet\\n\\nBest Occasion: Graduation Bouquet\\nProduct Description: Congrats, graduate! The Cap and Bloom Bouquet is here to celebrate an extraordinary journey of achievement!\\n\\nSoap Sunflower shine brilliantly like success, making them the ideal symbol of celebration on their achievements.\\nSoap Pink Roses symbolize with heartfelt gratitude and admiration, expressing thank you for incredible hard work of the graduates.\\nSoap Blue Roses signifies acknowledging the graduate’s ambition and determination to succeed.\\nThe Cap and Bloom Bouquet is a celebration of hard work and the exciting future that awaits you! Make their celebration unforgettable that will leave a lasting impression!\\n    '),\n",
       " Document(metadata={'product_id': 'P044', 'product_name': 'Clouds and Sunshine Bouquet\\n', 'price_rm': 205, 'blooms': 'Yellow and White Ping Pong, White Eustoma and Fillers\\n\\n', 'bouquet_size': 'Medium'}, page_content='Product Name: Clouds and Sunshine Bouquet\\n\\nBest Occasion: Graduation Bouquet\\nProduct Description: Celebrate the joy with the Clouds and Sunshine Bouquet, a stunning university graduation bouquet ideas for graduates! Each flower in this arrangement carries a special significance, making it the perfect gift for this memorable occasion.\\n\\nYellow and White Ping Pong are vibrant, cheerful blooms that highlight the bright future that awaits the graduate. These flowers represent the sunny days ahead, filled with opportunities and success.\\nMeanwhile, White Eustoma embodies the purity and elegance of academic achievement. It reflects the graduate’s dedication and hard work that has led to this proud moment.\\nThe Fillers in this bouquet are like the supportive friends and family who have been there throughout the graduate’s journey. They add depth and meaning to the flower bouquet, just as loved ones add richness to the graduate’s life.\\nSo, let’s get on celebrating the triumph of your graduation ceremony with a Clouds and Sunshine bouquet, a testament to your hard work and dedication! You simply deserve such an amazing graduation bouquet ideas with bear to accompany you of this meaningful day! Sender, are you reading this for the next graduate?\\n    '),\n",
       " Document(metadata={'product_id': 'P045', 'product_name': 'Milestone Memories Bouquet\\n', 'price_rm': 264, 'blooms': 'Soap Sunflowers, Soap Cappuccino Roses, Soap Coffee Roses and Fillers\\n\\n', 'bouquet_size': 'Medium'}, page_content='Product Name: Milestone Memories Bouquet\\n\\nBest Occasion: Graduation Bouquet\\nProduct Description: Well done graduate! The Milestone Memories Bouquet is here to celebrate the amazing journey of success!\\n\\nSoap Sunflower shine bright like success, making them the perfect symbol of celebration on their achievements.\\nSoap Coffee Roses represents the amazing ability to dream big and turn those dreams into reality.\\nSoap Cappuccino Roses symbolize graduate’s bright accomplishments are shining brightly!\\nThe Milestone Memories Bouquet is a celebration of hard work and the exciting future that awaits you! Make their celebration truly unforgettable!\\n    ')]"
      ]
     },
     "execution_count": 17,
     "metadata": {},
     "output_type": "execute_result"
    }
   ],
   "source": [
    "langchain_documents"
   ]
  },
  {
   "cell_type": "markdown",
   "metadata": {},
   "source": [
    "## 2.3 Ingest to Qdrant DB"
   ]
  },
  {
   "cell_type": "code",
   "execution_count": 19,
   "metadata": {},
   "outputs": [
    {
     "name": "stdout",
     "output_type": "stream",
     "text": [
      "Ingest to Vector Database Start.\n"
     ]
    },
    {
     "data": {
      "application/vnd.jupyter.widget-view+json": {
       "model_id": "68e6aee9bc964c31a5e90ab30a0a63b1",
       "version_major": 2,
       "version_minor": 0
      },
      "text/plain": [
       "Fetching 29 files:   0%|          | 0/29 [00:00<?, ?it/s]"
      ]
     },
     "metadata": {},
     "output_type": "display_data"
    },
    {
     "name": "stderr",
     "output_type": "stream",
     "text": [
      "flash_attn is not installed. Using PyTorch native attention implementation.\n",
      "flash_attn is not installed. Using PyTorch native attention implementation.\n",
      "flash_attn is not installed. Using PyTorch native attention implementation.\n",
      "flash_attn is not installed. Using PyTorch native attention implementation.\n",
      "flash_attn is not installed. Using PyTorch native attention implementation.\n",
      "flash_attn is not installed. Using PyTorch native attention implementation.\n",
      "flash_attn is not installed. Using PyTorch native attention implementation.\n",
      "flash_attn is not installed. Using PyTorch native attention implementation.\n",
      "flash_attn is not installed. Using PyTorch native attention implementation.\n",
      "flash_attn is not installed. Using PyTorch native attention implementation.\n",
      "flash_attn is not installed. Using PyTorch native attention implementation.\n",
      "flash_attn is not installed. Using PyTorch native attention implementation.\n",
      "flash_attn is not installed. Using PyTorch native attention implementation.\n",
      "flash_attn is not installed. Using PyTorch native attention implementation.\n",
      "flash_attn is not installed. Using PyTorch native attention implementation.\n",
      "flash_attn is not installed. Using PyTorch native attention implementation.\n",
      "flash_attn is not installed. Using PyTorch native attention implementation.\n",
      "flash_attn is not installed. Using PyTorch native attention implementation.\n",
      "flash_attn is not installed. Using PyTorch native attention implementation.\n",
      "flash_attn is not installed. Using PyTorch native attention implementation.\n",
      "flash_attn is not installed. Using PyTorch native attention implementation.\n",
      "flash_attn is not installed. Using PyTorch native attention implementation.\n",
      "flash_attn is not installed. Using PyTorch native attention implementation.\n",
      "flash_attn is not installed. Using PyTorch native attention implementation.\n",
      "flash_attn is not installed. Using PyTorch native attention implementation.\n"
     ]
    },
    {
     "name": "stdout",
     "output_type": "stream",
     "text": [
      "Ingest to Vector Database End.\n"
     ]
    }
   ],
   "source": [
    "print(\"Ingest to Vector Database Start.\")\n",
    "url = config.QDRANT_URL\n",
    "api_key = config.QDRANT_API_KEY\n",
    "\n",
    "sparse_embeddings = FastEmbedSparse(\n",
    "    model_name=\"Qdrant/bm25\"\n",
    ")\n",
    "\n",
    "model_name = \"jinaai/jina-embeddings-v3\"\n",
    "model_kwargs = {'device': 'cuda', 'trust_remote_code':True}\n",
    "encode_kwargs = {'normalize_embeddings': False}\n",
    "jina_embeddings = HuggingFaceEmbeddings(\n",
    "    model_name=model_name,\n",
    "    model_kwargs=model_kwargs,\n",
    "    encode_kwargs=encode_kwargs\n",
    ")\n",
    "\n",
    "embeddings = jina_embeddings\n",
    "\n",
    "QdrantVectorStore.from_documents(\n",
    "    langchain_documents,\n",
    "    embedding=embeddings,\n",
    "    sparse_embedding=sparse_embeddings,\n",
    "    url=url,\n",
    "    prefer_grpc=True,\n",
    "    api_key=api_key,\n",
    "    collection_name=\"flowers\",\n",
    "    retrieval_mode=RetrievalMode.HYBRID,\n",
    ")\n",
    "print(\"Ingest to Vector Database End.\")"
   ]
  },
  {
   "cell_type": "markdown",
   "metadata": {},
   "source": [
    "# 3. Ingest Policy"
   ]
  },
  {
   "cell_type": "markdown",
   "metadata": {},
   "source": [
    "## 3.1 Load Document"
   ]
  },
  {
   "cell_type": "code",
   "execution_count": 29,
   "metadata": {},
   "outputs": [],
   "source": [
    "import re\n",
    "\n",
    "file_path = \"../Online_Flower_Shop_Policies.pdf\"\n",
    "# Load the PDF document using PyPDFLoader\n",
    "loader = PyPDFLoader(file_path)  # Replace with the path to your PDF file\n",
    "documents = loader.load()"
   ]
  },
  {
   "cell_type": "markdown",
   "metadata": {},
   "source": [
    "## 2.2 Prepare Chunks"
   ]
  },
  {
   "cell_type": "code",
   "execution_count": 30,
   "metadata": {},
   "outputs": [],
   "source": [
    "text = \"\"\n",
    "for document in documents:\n",
    "    text += document.page_content\n",
    "\n",
    "# Use regex to split the text based on numbering (works for single and double digit numbers)\n",
    "sections = re.split(r'(?=\\d{1,2}\\.\\s)', text.strip())  # Matches 1- or 2-digit numbers followed by '. '\n",
    "\n",
    "# Remove empty strings and strip whitespace\n",
    "sections = [section.strip() for section in sections if section.strip()]\n",
    "\n",
    "langchain_documents = [Document(page_content=section, metadata={'document_type':'policy'}) for section in sections]"
   ]
  },
  {
   "cell_type": "markdown",
   "metadata": {},
   "source": [
    "## 3.3 Ingest Policy to Qdrant"
   ]
  },
  {
   "cell_type": "code",
   "execution_count": 31,
   "metadata": {},
   "outputs": [
    {
     "name": "stdout",
     "output_type": "stream",
     "text": [
      "Ingest to Vector Database Start.\n"
     ]
    },
    {
     "data": {
      "application/vnd.jupyter.widget-view+json": {
       "model_id": "9ddb5fcd17464ce6ac30ff12efa755a8",
       "version_major": 2,
       "version_minor": 0
      },
      "text/plain": [
       "Fetching 29 files:   0%|          | 0/29 [00:00<?, ?it/s]"
      ]
     },
     "metadata": {},
     "output_type": "display_data"
    },
    {
     "name": "stderr",
     "output_type": "stream",
     "text": [
      "flash_attn is not installed. Using PyTorch native attention implementation.\n",
      "flash_attn is not installed. Using PyTorch native attention implementation.\n",
      "flash_attn is not installed. Using PyTorch native attention implementation.\n",
      "flash_attn is not installed. Using PyTorch native attention implementation.\n",
      "flash_attn is not installed. Using PyTorch native attention implementation.\n",
      "flash_attn is not installed. Using PyTorch native attention implementation.\n",
      "flash_attn is not installed. Using PyTorch native attention implementation.\n",
      "flash_attn is not installed. Using PyTorch native attention implementation.\n",
      "flash_attn is not installed. Using PyTorch native attention implementation.\n",
      "flash_attn is not installed. Using PyTorch native attention implementation.\n",
      "flash_attn is not installed. Using PyTorch native attention implementation.\n",
      "flash_attn is not installed. Using PyTorch native attention implementation.\n",
      "flash_attn is not installed. Using PyTorch native attention implementation.\n",
      "flash_attn is not installed. Using PyTorch native attention implementation.\n",
      "flash_attn is not installed. Using PyTorch native attention implementation.\n",
      "flash_attn is not installed. Using PyTorch native attention implementation.\n",
      "flash_attn is not installed. Using PyTorch native attention implementation.\n",
      "flash_attn is not installed. Using PyTorch native attention implementation.\n",
      "flash_attn is not installed. Using PyTorch native attention implementation.\n",
      "flash_attn is not installed. Using PyTorch native attention implementation.\n",
      "flash_attn is not installed. Using PyTorch native attention implementation.\n",
      "flash_attn is not installed. Using PyTorch native attention implementation.\n",
      "flash_attn is not installed. Using PyTorch native attention implementation.\n",
      "flash_attn is not installed. Using PyTorch native attention implementation.\n",
      "flash_attn is not installed. Using PyTorch native attention implementation.\n"
     ]
    },
    {
     "name": "stdout",
     "output_type": "stream",
     "text": [
      "Ingest to Vector Database End.\n"
     ]
    }
   ],
   "source": [
    "print(\"Ingest to Vector Database Start.\")\n",
    "url = config.QDRANT_URL\n",
    "api_key = config.QDRANT_API_KEY\n",
    "\n",
    "sparse_embeddings = FastEmbedSparse(\n",
    "    model_name=\"Qdrant/bm25\"\n",
    ")\n",
    "\n",
    "model_name = \"jinaai/jina-embeddings-v3\"\n",
    "model_kwargs = {'device': 'cuda', 'trust_remote_code':True}\n",
    "encode_kwargs = {'normalize_embeddings': False}\n",
    "jina_embeddings = HuggingFaceEmbeddings(\n",
    "    model_name=model_name,\n",
    "    model_kwargs=model_kwargs,\n",
    "    encode_kwargs=encode_kwargs\n",
    ")\n",
    "\n",
    "embeddings = jina_embeddings\n",
    "\n",
    "QdrantVectorStore.from_documents(\n",
    "    langchain_documents,\n",
    "    embedding=embeddings,\n",
    "    sparse_embedding=sparse_embeddings,\n",
    "    url=url,\n",
    "    prefer_grpc=True,\n",
    "    api_key=api_key,\n",
    "    collection_name=\"flowers_policy\",\n",
    "    retrieval_mode=RetrievalMode.HYBRID,\n",
    ")\n",
    "print(\"Ingest to Vector Database End.\")"
   ]
  },
  {
   "cell_type": "code",
   "execution_count": null,
   "metadata": {},
   "outputs": [],
   "source": []
  }
 ],
 "metadata": {
  "kernelspec": {
   "display_name": "jaredllm",
   "language": "python",
   "name": "python3"
  },
  "language_info": {
   "codemirror_mode": {
    "name": "ipython",
    "version": 3
   },
   "file_extension": ".py",
   "mimetype": "text/x-python",
   "name": "python",
   "nbconvert_exporter": "python",
   "pygments_lexer": "ipython3",
   "version": "3.12.4"
  }
 },
 "nbformat": 4,
 "nbformat_minor": 2
}
