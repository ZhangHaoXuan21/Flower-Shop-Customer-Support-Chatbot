{
 "cells": [
  {
   "cell_type": "code",
   "execution_count": 1,
   "metadata": {},
   "outputs": [],
   "source": [
    "from langchain_community.document_loaders import PyPDFLoader\n",
    "from langchain_text_splitters import RecursiveCharacterTextSplitter\n",
    "from langchain_qdrant import QdrantVectorStore\n",
    "from langchain_ollama import OllamaEmbeddings\n",
    "from langchain_qdrant import FastEmbedSparse, RetrievalMode\n",
    "from langchain import hub\n",
    "from langchain_core.output_parsers import StrOutputParser\n",
    "from langchain_core.runnables import RunnablePassthrough\n",
    "from langchain_groq import ChatGroq\n",
    "from langchain.prompts import ChatPromptTemplate\n",
    "from langchain.retrievers import ContextualCompressionRetriever\n",
    "from langchain.retrievers.document_compressors import FlashrankRerank\n",
    "from langchain_huggingface import HuggingFaceEmbeddings\n",
    "\n",
    "\n",
    "from typing import Literal\n",
    "from pydantic import BaseModel, Field\n",
    "from database import add_item_to_cart_by_name\n",
    "\n",
    "import config"
   ]
  },
  {
   "cell_type": "markdown",
   "metadata": {},
   "source": [
    "# Setup"
   ]
  },
  {
   "cell_type": "code",
   "execution_count": 2,
   "metadata": {},
   "outputs": [
    {
     "data": {
      "application/vnd.jupyter.widget-view+json": {
       "model_id": "5c25bd28058d4d5b97017336139b8392",
       "version_major": 2,
       "version_minor": 0
      },
      "text/plain": [
       "Fetching 29 files:   0%|          | 0/29 [00:00<?, ?it/s]"
      ]
     },
     "metadata": {},
     "output_type": "display_data"
    },
    {
     "name": "stderr",
     "output_type": "stream",
     "text": [
      "flash_attn is not installed. Using PyTorch native attention implementation.\n",
      "flash_attn is not installed. Using PyTorch native attention implementation.\n",
      "flash_attn is not installed. Using PyTorch native attention implementation.\n",
      "flash_attn is not installed. Using PyTorch native attention implementation.\n",
      "flash_attn is not installed. Using PyTorch native attention implementation.\n",
      "flash_attn is not installed. Using PyTorch native attention implementation.\n",
      "flash_attn is not installed. Using PyTorch native attention implementation.\n",
      "flash_attn is not installed. Using PyTorch native attention implementation.\n",
      "flash_attn is not installed. Using PyTorch native attention implementation.\n",
      "flash_attn is not installed. Using PyTorch native attention implementation.\n",
      "flash_attn is not installed. Using PyTorch native attention implementation.\n",
      "flash_attn is not installed. Using PyTorch native attention implementation.\n",
      "flash_attn is not installed. Using PyTorch native attention implementation.\n",
      "flash_attn is not installed. Using PyTorch native attention implementation.\n",
      "flash_attn is not installed. Using PyTorch native attention implementation.\n",
      "flash_attn is not installed. Using PyTorch native attention implementation.\n",
      "flash_attn is not installed. Using PyTorch native attention implementation.\n",
      "flash_attn is not installed. Using PyTorch native attention implementation.\n",
      "flash_attn is not installed. Using PyTorch native attention implementation.\n",
      "flash_attn is not installed. Using PyTorch native attention implementation.\n",
      "flash_attn is not installed. Using PyTorch native attention implementation.\n",
      "flash_attn is not installed. Using PyTorch native attention implementation.\n",
      "flash_attn is not installed. Using PyTorch native attention implementation.\n",
      "flash_attn is not installed. Using PyTorch native attention implementation.\n",
      "flash_attn is not installed. Using PyTorch native attention implementation.\n"
     ]
    }
   ],
   "source": [
    "url = config.QDRANT_URL\n",
    "api_key = config.QDRANT_API_KEY\n",
    "\n",
    "sparse_embeddings = FastEmbedSparse(\n",
    "    model_name=\"Qdrant/bm25\"\n",
    ")\n",
    "\n",
    "model_name = \"jinaai/jina-embeddings-v3\"\n",
    "model_kwargs = {'device': 'cuda', 'trust_remote_code':True}\n",
    "encode_kwargs = {'normalize_embeddings': False}\n",
    "jina_embeddings = HuggingFaceEmbeddings(\n",
    "    model_name=model_name,\n",
    "    model_kwargs=model_kwargs,\n",
    "    encode_kwargs=encode_kwargs\n",
    ")\n",
    "\n",
    "embeddings = jina_embeddings\n",
    "\n",
    "product_qdrant = QdrantVectorStore.from_existing_collection(\n",
    "    embedding=embeddings,\n",
    "    sparse_embedding=sparse_embeddings,\n",
    "    url=config.QDRANT_URL,\n",
    "    prefer_grpc=True,\n",
    "    api_key=config.QDRANT_API_KEY,\n",
    "    collection_name=\"flowers\",\n",
    "    retrieval_mode=RetrievalMode.HYBRID,\n",
    ")\n",
    "\n",
    "\n",
    "policy_qdrant = QdrantVectorStore.from_existing_collection(\n",
    "    embedding=embeddings,\n",
    "    sparse_embedding=sparse_embeddings,\n",
    "    url=config.QDRANT_URL,\n",
    "    prefer_grpc=True,\n",
    "    api_key=config.QDRANT_API_KEY,\n",
    "    collection_name=\"flowers_policy\",\n",
    "    retrieval_mode=RetrievalMode.HYBRID,\n",
    ")\n",
    "\n",
    "\n",
    "groq_llama3_1_70b = ChatGroq(\n",
    "    model=\"llama-3.1-70b-versatile\",\n",
    "    temperature=0,\n",
    "    api_key=config.GROQ_API_KEY\n",
    ")"
   ]
  },
  {
   "cell_type": "markdown",
   "metadata": {},
   "source": [
    "# 1. Define Graph State"
   ]
  },
  {
   "cell_type": "code",
   "execution_count": 2,
   "metadata": {},
   "outputs": [],
   "source": [
    "from typing import List\n",
    "from typing_extensions import TypedDict\n",
    "from langgraph.graph import MessagesState\n",
    "from langchain_core.documents import Document\n",
    "\n",
    "\n",
    "class GraphState(MessagesState):\n",
    "    \"\"\"\n",
    "    Represents the state of our graph.\n",
    "\n",
    "    Attributes:\n",
    "        question: question\n",
    "        final_answer: LLM generation\n",
    "        recommend_docs: list of documents\n",
    "    \"\"\"\n",
    "    groq_llama3_1_70b: ChatGroq\n",
    "    product_qdrant: QdrantVectorStore\n",
    "    policy_qdrant: QdrantVectorStore\n",
    "    query: str\n",
    "    final_answer: str\n",
    "    recommend_products: List[str]\n",
    "    supervisor_route_choice: str\n",
    "    cust_id: str"
   ]
  },
  {
   "cell_type": "markdown",
   "metadata": {},
   "source": [
    "# 2. Define Nodes"
   ]
  },
  {
   "cell_type": "code",
   "execution_count": 3,
   "metadata": {},
   "outputs": [],
   "source": [
    "# Supervisor Node\n",
    "\n",
    "def supervisor_agent(state):\n",
    "    query = state['query']\n",
    "    groq_llama3_1_70b = state['groq_llama3_1_70b']\n",
    "\n",
    "    # Data model\n",
    "    class SupervisorRoute(BaseModel):\n",
    "        \"\"\"Route a user query to the most relevant datasource.\"\"\"\n",
    "\n",
    "        route: Literal[\"product_recommendation_agent\", \"policy_agent\", \"cart_agent\", \"apology_agent\"] = Field(\n",
    "            description=\"Given a user question choose to route it to vector_store_agent or apology_agent. \",\n",
    "        )\n",
    "\n",
    "\n",
    "    structured_supervisor_llm = groq_llama3_1_70b.with_structured_output(SupervisorRoute)\n",
    "\n",
    "    # Prompt\n",
    "    system = \"\"\"You are an expert at delegating a user query to an appropriate agent.\n",
    "    if the user query involved product recommendation:\n",
    "        delegate to \"product_recommendation_agent\"\n",
    "    if the user query involve policy question:\n",
    "        delegate to \"policy_agent\"\n",
    "    if the user query involve adding items to cart:\n",
    "        delegate to \"cart_agent\"\n",
    "    if the user query are not related to product recommendation, policy, cart:\n",
    "        delegate to \"apology_agent\"\n",
    "    \"\"\"\n",
    "    route_prompt = ChatPromptTemplate.from_messages(\n",
    "        [\n",
    "            (\"system\", system),\n",
    "            (\"human\", \"{question}\"),\n",
    "        ]\n",
    "    )\n",
    "\n",
    "    supervisor_agent = route_prompt | structured_supervisor_llm\n",
    "\n",
    "    supervisor_choice = supervisor_agent.invoke(query)\n",
    "\n",
    "    return {\"supervisor_route_choice\": supervisor_choice.route}\n",
    "\n",
    "# Recommendation Agent\n",
    "def product_recommendation_agent(state):\n",
    "    query = state['query']\n",
    "    product_qdrant = state['product_qdrant']\n",
    "\n",
    "    # -----------------------------------------------------------------\n",
    "    # 1. Retrieval\n",
    "    # -----------------------------------------------------------------\n",
    "\n",
    "    compressor = FlashrankRerank(\n",
    "        model=\"ms-marco-MiniLM-L-12-v2\",\n",
    "        top_n=5\n",
    "    )\n",
    "\n",
    "    product_hybrid_rerank_qdrant_retriever = product_qdrant.as_retriever(\n",
    "        search_type=\"similarity\", \n",
    "        search_kwargs={\"k\": 20},\n",
    "    )\n",
    "    \n",
    "    compression_retriever = ContextualCompressionRetriever(\n",
    "        base_compressor=compressor, base_retriever=product_hybrid_rerank_qdrant_retriever\n",
    "    )\n",
    "\n",
    "    recommend_docs = compression_retriever.invoke(query)\n",
    "\n",
    "    # Format the docs\n",
    "    recommend_docs_context = \"\\n\\n\".join(doc.page_content for doc in recommend_docs)\n",
    "\n",
    "    # -----------------------------------------------------------------\n",
    "    # 2. Recommendation Text Generation\n",
    "    # -----------------------------------------------------------------\n",
    "    # Prompt\n",
    "    recommend_template = \"\"\"\n",
    "    You are a persuasive product recommendation assistant.  \n",
    "    Your goal is to recommend products in a compelling and confident manner based on the context and user’s needs.  \n",
    "    Use strong, persuasive language to highlight why this product is the perfect choice.  \n",
    "    If the context does not provide enough information to recommend a product, suggest reaching out for personalized assistance.  \n",
    "\n",
    "    Provide the recommendation in the following structured format:  \n",
    "    1.**Product Name**: [Insert product name]  \n",
    "    **Reason to Buy**: [Provide a persuasive and compelling reason why this product is the best choice for the user]\n",
    "\n",
    "    User Need: {user_need}  \n",
    "    Context: {context}  \n",
    "    Answer:\n",
    "\n",
    "    \"\"\"\n",
    "\n",
    "    recommend_prompt = ChatPromptTemplate.from_template(recommend_template)\n",
    "\n",
    "\n",
    "    llm = groq_llama3_1_70b\n",
    "\n",
    "    rag_chain = (\n",
    "        recommend_prompt\n",
    "        | llm\n",
    "        | StrOutputParser()\n",
    "    )\n",
    "\n",
    "    recommendation_text =  rag_chain.invoke({\"user_need\": query, \"context\": recommend_docs_context})\n",
    "\n",
    "    # -----------------------------------------------------------------\n",
    "    # 3. Extract Product Names\n",
    "    # -----------------------------------------------------------------\n",
    "\n",
    "    # Data model\n",
    "    class ProductNames(BaseModel):\n",
    "        \"\"\"Route a user query to the most relevant datasource.\"\"\"\n",
    "\n",
    "        names: List[str] = Field(\n",
    "            description=\"Product names from the recommendation text \",\n",
    "        )\n",
    "\n",
    "    product_names_template = \"\"\"\n",
    "    Extract the Product Names from Recommendation Text.\n",
    "    Recommendation Text: {recommendation_text}  \n",
    "    Product Names:\n",
    "    \"\"\"\n",
    "\n",
    "    product_names_llm = groq_llama3_1_70b.with_structured_output(ProductNames)\n",
    "\n",
    "    product_name_prompt = ChatPromptTemplate.from_template(product_names_template)\n",
    "\n",
    "    product_name_chain = product_name_prompt | product_names_llm\n",
    "\n",
    "    product_names = product_name_chain.invoke({'recommendation_text': recommendation_text})\n",
    "\n",
    "    return {'final_answer': recommendation_text, \"recommend_products\":product_names}\n",
    "\n",
    "def cart_agent(state):\n",
    "    query = state['query']\n",
    "    cust_id = state['cust_id']\n",
    "\n",
    "    class CartItem(BaseModel):\n",
    "        \"\"\"Represents an item in the shopping cart.\"\"\"\n",
    "        product_name: str\n",
    "        product_quantity: int\n",
    "\n",
    "    class CartData(BaseModel):\n",
    "        \"\"\"Extract useful cart data from user query.\"\"\"\n",
    "        cart_data: List[CartItem]\n",
    "        complete_data: Literal['yes', 'no']\n",
    "        reason: str\n",
    "\n",
    "    structured_cart_llm = groq_llama3_1_70b.with_structured_output(CartData)\n",
    "\n",
    "    # Prompt\n",
    "    system = \"\"\"You are a highly intelligent assistant trained to extract structured data from user input.  \n",
    "    Your task is to extract a list of products and their quantities in the user's shopping cart from the query provided.  \n",
    "    Ensure the data follows the required structure exactly as described.  \n",
    "    If no cart data is mentioned, respond with an empty list.\n",
    "\n",
    "    class CartItem(BaseModel):\n",
    "        product_name: str\n",
    "        product_quantity: int\n",
    "\n",
    "    class CartData(BaseModel):\n",
    "        cart_data: List[CartItem]\n",
    "\n",
    "    ### User Query:\n",
    "    {user_query}\n",
    "\n",
    "    ### Extracted Cart Data:\n",
    "\n",
    "    \"\"\"\n",
    "    route_prompt = ChatPromptTemplate.from_messages(\n",
    "        [\n",
    "            (\"system\", system),\n",
    "            (\"human\", \"{user_query}\"),\n",
    "        ]\n",
    "    )\n",
    "\n",
    "    cart_agent = route_prompt | structured_cart_llm\n",
    "\n",
    "    cart_items = cart_agent.invoke(query)\n",
    "\n",
    "    process_message = \"\"\n",
    "\n",
    "    if cart_items.complete_data == \"yes\":\n",
    "        for cart_item in cart_items.cart_data:\n",
    "            process_data = add_item_to_cart_by_name(cust_id, cart_item.product_name, cart_item.product_quantity)\n",
    "            process_message += f\"{process_data['process_message']}\\n\"\n",
    "\n",
    "    else:\n",
    "        process_message = cart_items.reason\n",
    "    \n",
    "    return {'final_answer': process_message}\n",
    "\n",
    "# Policy Agent\n",
    "def policy_agent(state):\n",
    "    query = state['query']\n",
    "    policy_qdrant = state['policy_qdrant']\n",
    "\n",
    "    # -----------------------------------------------------------------\n",
    "    # 1. Retrieval\n",
    "    # -----------------------------------------------------------------\n",
    "    policy_hybrid_rerank_qdrant_retriever = policy_qdrant.as_retriever(\n",
    "        search_type=\"similarity\", \n",
    "        search_kwargs={\"k\": 5},\n",
    "    )\n",
    "\n",
    "    policy_docs = policy_hybrid_rerank_qdrant_retriever.invoke(query)\n",
    "\n",
    "    # Format the docs\n",
    "    policy_docs_context = \"\\n\\n\".join(doc.page_content for doc in policy_docs)\n",
    "\n",
    "    # -----------------------------------------------------------------\n",
    "    # 2. Generation\n",
    "    # -----------------------------------------------------------------\n",
    "    # Prompt\n",
    "\n",
    "    policy_template = \"\"\"\n",
    "    You are a policy assistant.  \n",
    "    Your role is to provide clear, confident, and informative answers based on the policy documents provided.  \n",
    "    Use the policy details to formulate precise answers that are aligned with the company's guidelines and regulations.  \n",
    "    Ensure your response is concise, easy to understand, and authoritative.  \n",
    "    Do not mention that you are referring to the context to answer the question.\n",
    "\n",
    "    policy_query: {policy_query}  \n",
    "    Policy Context: {policy_docs_context}  \n",
    "    Answer:\n",
    "    \"\"\"\n",
    "\n",
    "    policy_prompt = ChatPromptTemplate.from_template(policy_template)\n",
    "\n",
    "    llm = groq_llama3_1_70b\n",
    "\n",
    "    rag_chain = (\n",
    "        policy_prompt\n",
    "        | llm\n",
    "        | StrOutputParser()\n",
    "    )\n",
    "\n",
    "    policy_text =  rag_chain.invoke({\"policy_query\": query, \"policy_docs_context\": policy_docs_context})\n",
    "\n",
    "    return {'final_answer': policy_text}\n",
    "\n",
    "\n",
    "# Apology Agent\n",
    "def apology_agent(state):\n",
    "    query = state['query']\n",
    "\n",
    "    # Prompt\n",
    "    template = \"\"\"\n",
    "    The query are not related to product recommendation, policy and cart management.\n",
    "    Do not handle the query and apologize to the user.\n",
    "\n",
    "    Query: {query} \n",
    "    Apology:\n",
    "    \"\"\"\n",
    "\n",
    "    prompt = ChatPromptTemplate.from_template(template)\n",
    "\n",
    "    llm = groq_llama3_1_70b\n",
    "\n",
    "    apology_chain = (\n",
    "        prompt\n",
    "        | llm\n",
    "        | StrOutputParser()\n",
    "    )\n",
    "\n",
    "    apology_text =  apology_chain.invoke({\"query\": query})\n",
    "\n",
    "    return {\n",
    "        \"final_answer\": apology_text\n",
    "    }"
   ]
  },
  {
   "cell_type": "markdown",
   "metadata": {},
   "source": [
    "# 3. Define Conditional Edges"
   ]
  },
  {
   "cell_type": "code",
   "execution_count": 4,
   "metadata": {},
   "outputs": [],
   "source": [
    "def supervisor_route(state):\n",
    "    supervisor_route_choice = state['supervisor_route_choice']\n",
    "\n",
    "    if supervisor_route_choice == \"product_recommendation_agent\":\n",
    "        return \"product_recommendation_agent\"\n",
    "    elif supervisor_route_choice == \"apology_agent\":\n",
    "        return \"apology_agent\"\n",
    "    elif supervisor_route_choice == \"cart_agent\":\n",
    "        return \"cart_agent\"\n",
    "    elif supervisor_route_choice == \"policy_agent\":\n",
    "        return \"policy_agent\""
   ]
  },
  {
   "cell_type": "markdown",
   "metadata": {},
   "source": [
    "# 4. Define the Graph"
   ]
  },
  {
   "cell_type": "code",
   "execution_count": 5,
   "metadata": {},
   "outputs": [
    {
     "data": {
      "image/jpeg": "[encoded data removed]",
      "text/plain": [
       "<IPython.core.display.Image object>"
      ]
     },
     "metadata": {},
     "output_type": "display_data"
    }
   ],
   "source": [
    "from IPython.display import Image, display\n",
    "from langgraph.graph import END, StateGraph\n",
    "\n",
    "# Initialise the graph\n",
    "workflow = StateGraph(GraphState)\n",
    "\n",
    "# Add nodes\n",
    "workflow.add_node(\"supervisor_agent\", supervisor_agent)\n",
    "workflow.add_node(\"product_recommendation_agent\", product_recommendation_agent)\n",
    "workflow.add_node(\"cart_agent\", cart_agent)\n",
    "workflow.add_node(\"policy_agent\", policy_agent)\n",
    "workflow.add_node(\"apology_agent\", apology_agent)\n",
    "\n",
    "\n",
    "# Add Edges\n",
    "workflow.set_entry_point(\"supervisor_agent\")\n",
    "workflow.add_conditional_edges(\n",
    "    source=\"supervisor_agent\",\n",
    "    path=supervisor_route,\n",
    "    path_map={\n",
    "        \"product_recommendation_agent\": \"product_recommendation_agent\",\n",
    "        \"apology_agent\": \"apology_agent\",\n",
    "        \"cart_agent\": \"cart_agent\",\n",
    "        \"policy_agent\": \"policy_agent\"\n",
    "    }\n",
    ")\n",
    "workflow.add_edge(\"product_recommendation_agent\", END)\n",
    "workflow.add_edge(\"cart_agent\", END)\n",
    "workflow.add_edge(\"policy_agent\", END)\n",
    "workflow.add_edge(\"apology_agent\", END)\n",
    "\n",
    "flower_graph = workflow.compile()\n",
    "\n",
    "display(Image(flower_graph.get_graph().draw_mermaid_png()))"
   ]
  },
  {
   "cell_type": "markdown",
   "metadata": {},
   "source": [
    "# 4. Test the Agents"
   ]
  },
  {
   "cell_type": "code",
   "execution_count": 21,
   "metadata": {},
   "outputs": [],
   "source": [
    "from dotenv import load_dotenv\n",
    "import os\n",
    "\n",
    "load_dotenv()\n",
    "GROQ_API_KEY = os.getenv(\"GROQ_API_KEY\")\n",
    "QDRANT_URL = os.getenv(\"QDRANT_URL\")\n",
    "QDRANT_API_KEY = os.getenv(\"QDRANT_API_KEY\")"
   ]
  },
  {
   "cell_type": "code",
   "execution_count": 23,
   "metadata": {},
   "outputs": [
    {
     "data": {
      "application/vnd.jupyter.widget-view+json": {
       "model_id": "ff6de4b3f1504c3392e7b2a665606799",
       "version_major": 2,
       "version_minor": 0
      },
      "text/plain": [
       "Fetching 29 files:   0%|          | 0/29 [00:00<?, ?it/s]"
      ]
     },
     "metadata": {},
     "output_type": "display_data"
    },
    {
     "name": "stderr",
     "output_type": "stream",
     "text": [
      "INFO:sentence_transformers.SentenceTransformer:Load pretrained SentenceTransformer: jinaai/jina-embeddings-v3\n",
      "WARNING:transformers_modules.jinaai.xlm-roberta-flash-implementation.da863dd04a4e5dce6814c6625adfba87b83838aa.modeling_xlm_roberta:flash_attn is not installed. Using PyTorch native attention implementation.\n",
      "WARNING:transformers_modules.jinaai.xlm-roberta-flash-implementation.da863dd04a4e5dce6814c6625adfba87b83838aa.modeling_xlm_roberta:flash_attn is not installed. Using PyTorch native attention implementation.\n",
      "WARNING:transformers_modules.jinaai.xlm-roberta-flash-implementation.da863dd04a4e5dce6814c6625adfba87b83838aa.modeling_xlm_roberta:flash_attn is not installed. Using PyTorch native attention implementation.\n",
      "WARNING:transformers_modules.jinaai.xlm-roberta-flash-implementation.da863dd04a4e5dce6814c6625adfba87b83838aa.modeling_xlm_roberta:flash_attn is not installed. Using PyTorch native attention implementation.\n",
      "WARNING:transformers_modules.jinaai.xlm-roberta-flash-implementation.da863dd04a4e5dce6814c6625adfba87b83838aa.modeling_xlm_roberta:flash_attn is not installed. Using PyTorch native attention implementation.\n",
      "WARNING:transformers_modules.jinaai.xlm-roberta-flash-implementation.da863dd04a4e5dce6814c6625adfba87b83838aa.modeling_xlm_roberta:flash_attn is not installed. Using PyTorch native attention implementation.\n",
      "WARNING:transformers_modules.jinaai.xlm-roberta-flash-implementation.da863dd04a4e5dce6814c6625adfba87b83838aa.modeling_xlm_roberta:flash_attn is not installed. Using PyTorch native attention implementation.\n",
      "WARNING:transformers_modules.jinaai.xlm-roberta-flash-implementation.da863dd04a4e5dce6814c6625adfba87b83838aa.modeling_xlm_roberta:flash_attn is not installed. Using PyTorch native attention implementation.\n",
      "WARNING:transformers_modules.jinaai.xlm-roberta-flash-implementation.da863dd04a4e5dce6814c6625adfba87b83838aa.modeling_xlm_roberta:flash_attn is not installed. Using PyTorch native attention implementation.\n",
      "WARNING:transformers_modules.jinaai.xlm-roberta-flash-implementation.da863dd04a4e5dce6814c6625adfba87b83838aa.modeling_xlm_roberta:flash_attn is not installed. Using PyTorch native attention implementation.\n",
      "WARNING:transformers_modules.jinaai.xlm-roberta-flash-implementation.da863dd04a4e5dce6814c6625adfba87b83838aa.modeling_xlm_roberta:flash_attn is not installed. Using PyTorch native attention implementation.\n",
      "WARNING:transformers_modules.jinaai.xlm-roberta-flash-implementation.da863dd04a4e5dce6814c6625adfba87b83838aa.modeling_xlm_roberta:flash_attn is not installed. Using PyTorch native attention implementation.\n",
      "WARNING:transformers_modules.jinaai.xlm-roberta-flash-implementation.da863dd04a4e5dce6814c6625adfba87b83838aa.modeling_xlm_roberta:flash_attn is not installed. Using PyTorch native attention implementation.\n",
      "WARNING:transformers_modules.jinaai.xlm-roberta-flash-implementation.da863dd04a4e5dce6814c6625adfba87b83838aa.modeling_xlm_roberta:flash_attn is not installed. Using PyTorch native attention implementation.\n",
      "WARNING:transformers_modules.jinaai.xlm-roberta-flash-implementation.da863dd04a4e5dce6814c6625adfba87b83838aa.modeling_xlm_roberta:flash_attn is not installed. Using PyTorch native attention implementation.\n",
      "WARNING:transformers_modules.jinaai.xlm-roberta-flash-implementation.da863dd04a4e5dce6814c6625adfba87b83838aa.modeling_xlm_roberta:flash_attn is not installed. Using PyTorch native attention implementation.\n",
      "WARNING:transformers_modules.jinaai.xlm-roberta-flash-implementation.da863dd04a4e5dce6814c6625adfba87b83838aa.modeling_xlm_roberta:flash_attn is not installed. Using PyTorch native attention implementation.\n",
      "WARNING:transformers_modules.jinaai.xlm-roberta-flash-implementation.da863dd04a4e5dce6814c6625adfba87b83838aa.modeling_xlm_roberta:flash_attn is not installed. Using PyTorch native attention implementation.\n",
      "WARNING:transformers_modules.jinaai.xlm-roberta-flash-implementation.da863dd04a4e5dce6814c6625adfba87b83838aa.modeling_xlm_roberta:flash_attn is not installed. Using PyTorch native attention implementation.\n",
      "WARNING:transformers_modules.jinaai.xlm-roberta-flash-implementation.da863dd04a4e5dce6814c6625adfba87b83838aa.modeling_xlm_roberta:flash_attn is not installed. Using PyTorch native attention implementation.\n",
      "WARNING:transformers_modules.jinaai.xlm-roberta-flash-implementation.da863dd04a4e5dce6814c6625adfba87b83838aa.modeling_xlm_roberta:flash_attn is not installed. Using PyTorch native attention implementation.\n",
      "WARNING:transformers_modules.jinaai.xlm-roberta-flash-implementation.da863dd04a4e5dce6814c6625adfba87b83838aa.modeling_xlm_roberta:flash_attn is not installed. Using PyTorch native attention implementation.\n",
      "WARNING:transformers_modules.jinaai.xlm-roberta-flash-implementation.da863dd04a4e5dce6814c6625adfba87b83838aa.modeling_xlm_roberta:flash_attn is not installed. Using PyTorch native attention implementation.\n",
      "WARNING:transformers_modules.jinaai.xlm-roberta-flash-implementation.da863dd04a4e5dce6814c6625adfba87b83838aa.modeling_xlm_roberta:flash_attn is not installed. Using PyTorch native attention implementation.\n",
      "WARNING:transformers_modules.jinaai.xlm-roberta-flash-implementation.da863dd04a4e5dce6814c6625adfba87b83838aa.modeling_xlm_roberta:flash_attn is not installed. Using PyTorch native attention implementation.\n",
      "INFO:sentence_transformers.SentenceTransformer:5 prompts are loaded, with the keys: ['retrieval.query', 'retrieval.passage', 'separation', 'classification', 'text-matching']\n"
     ]
    }
   ],
   "source": [
    "sparse_embeddings = FastEmbedSparse(\n",
    "    model_name=\"Qdrant/bm25\"\n",
    ")\n",
    "\n",
    "model_name = \"jinaai/jina-embeddings-v3\"\n",
    "model_kwargs = {'device': 'cuda', 'trust_remote_code':True}\n",
    "encode_kwargs = {'normalize_embeddings': False}\n",
    "jina_embeddings = HuggingFaceEmbeddings(\n",
    "    model_name=model_name,\n",
    "    model_kwargs=model_kwargs,\n",
    "    encode_kwargs=encode_kwargs\n",
    ")\n",
    "\n",
    "embeddings = jina_embeddings\n",
    "\n",
    "product_qdrant = QdrantVectorStore.from_existing_collection(\n",
    "    embedding=embeddings,\n",
    "    sparse_embedding=sparse_embeddings,\n",
    "    url=QDRANT_URL,\n",
    "    prefer_grpc=True,\n",
    "    api_key=QDRANT_API_KEY,\n",
    "    collection_name=\"flowers\",\n",
    "    retrieval_mode=RetrievalMode.HYBRID,\n",
    ")\n",
    "\n",
    "\n",
    "policy_qdrant = QdrantVectorStore.from_existing_collection(\n",
    "    embedding=embeddings,\n",
    "    sparse_embedding=sparse_embeddings,\n",
    "    url=QDRANT_URL,\n",
    "    prefer_grpc=True,\n",
    "    api_key=QDRANT_API_KEY,\n",
    "    collection_name=\"flowers_policy\",\n",
    "    retrieval_mode=RetrievalMode.HYBRID,\n",
    ")\n",
    "\n",
    "\n",
    "groq_llama3_1_70b = ChatGroq(\n",
    "    model=\"llama-3.1-70b-versatile\",\n",
    "    temperature=0,\n",
    "    api_key=GROQ_API_KEY\n",
    ")"
   ]
  },
  {
   "cell_type": "markdown",
   "metadata": {},
   "source": [
    "## 4.1 Product Recommendation Agent"
   ]
  },
  {
   "cell_type": "code",
   "execution_count": 7,
   "metadata": {},
   "outputs": [
    {
     "name": "stderr",
     "output_type": "stream",
     "text": [
      "INFO:httpx:HTTP Request: POST https://api.groq.com/openai/v1/chat/completions \"HTTP/1.1 200 OK\"\n",
      "INFO:httpx:HTTP Request: POST https://api.groq.com/openai/v1/chat/completions \"HTTP/1.1 200 OK\"\n"
     ]
    }
   ],
   "source": [
    "user_query = \"Give me 3 flowers to choose for proposing to a girl i loved!!!\"\n",
    "#user_query = \"Give 3 flowers to choose to attend funeral\"\n",
    "cust_id = \"C001\"\n",
    "result = flower_graph.invoke(\n",
    "    {\n",
    "    \"query\":user_query,\n",
    "    \"cust_id\":cust_id,\n",
    "    \"product_qdrant\":product_qdrant,\n",
    "    \"policy_qdrant\":policy_qdrant,\n",
    "    \"groq_llama3_1_70b\":groq_llama3_1_70b\n",
    "    }\n",
    ")"
   ]
  },
  {
   "cell_type": "code",
   "execution_count": 8,
   "metadata": {},
   "outputs": [
    {
     "data": {
      "text/plain": [
       "'product_recommendation_agent'"
      ]
     },
     "execution_count": 8,
     "metadata": {},
     "output_type": "execute_result"
    }
   ],
   "source": [
    "result['supervisor_route_choice']"
   ]
  },
  {
   "cell_type": "code",
   "execution_count": 9,
   "metadata": {},
   "outputs": [
    {
     "name": "stdout",
     "output_type": "stream",
     "text": [
      "Based on your need to propose to the girl you love, I would recommend the following three flower bouquets:\n",
      "\n",
      "1. **Elsa Rose Bouquet**: \n",
      "**Reason to Buy**: This bouquet is a timeless expression of love and passion, featuring 12 stunning Elsa Roses that radiate beauty and grace. Elsa Roses symbolize admiration, gratitude, and gentle affection, making them the perfect choice for expressing your love and devotion. This bouquet is more than just flowers; it's a declaration of love that will surely leave a lasting impression on your loved one.\n",
      "\n",
      "2. **My Girl Bouquet**: \n",
      "**Reason to Buy**: This bouquet is a sweet and gentle arrangement that adds a touch of magic to make your loved one's celebration even more memorable. The Pink Rose symbolizes affection and admiration, while the White Tulip represents the magical beginning of a love connection. This bouquet is a beautiful way to express your love and appreciation from the heart.\n",
      "\n",
      "3. **Blooming Garden Bouquet**: \n",
      "**Reason to Buy**: This bouquet is a stunning arrangement that features a combination of vibrant flowers, including Blue Hydrangea, Purple Roses, Purple Rose Spray, Pink Daisies, and Champagne Gerbera. Each flower has its own special meaning, but together they convey a message of love, admiration, and appreciation. This bouquet is a unique and thoughtful way to express your feelings and make your proposal unforgettable.\n",
      "\n",
      "These bouquets are all beautiful and meaningful, but I think the Elsa Rose Bouquet is the most romantic and expressive of the three. However, the final decision depends on your personal preference and the style of your proposal.\n"
     ]
    }
   ],
   "source": [
    "print(result['final_answer'])"
   ]
  },
  {
   "cell_type": "code",
   "execution_count": 10,
   "metadata": {},
   "outputs": [
    {
     "name": "stdout",
     "output_type": "stream",
     "text": [
      "names=['Elsa Rose Bouquet', 'My Girl Bouquet', 'Blooming Garden Bouquet']\n"
     ]
    }
   ],
   "source": [
    "print(result['recommend_products'])"
   ]
  },
  {
   "cell_type": "markdown",
   "metadata": {},
   "source": [
    "## 4.2 Cart Agent"
   ]
  },
  {
   "cell_type": "code",
   "execution_count": 12,
   "metadata": {},
   "outputs": [
    {
     "name": "stderr",
     "output_type": "stream",
     "text": [
      "INFO:httpx:HTTP Request: POST https://api.groq.com/openai/v1/chat/completions \"HTTP/1.1 200 OK\"\n",
      "INFO:httpx:HTTP Request: POST https://api.groq.com/openai/v1/chat/completions \"HTTP/1.1 200 OK\"\n"
     ]
    }
   ],
   "source": [
    "user_query = \"add 1 Elsa Rose Bouquet to cart and 2 My Girl Bouquet to cart\"\n",
    "result = flower_graph.invoke(\n",
    "    {\n",
    "    \"query\":user_query,\n",
    "    \"cust_id\":cust_id,\n",
    "    \"product_qdrant\":product_qdrant,\n",
    "    \"policy_qdrant\":policy_qdrant,\n",
    "    \"groq_llama3_1_70b\":groq_llama3_1_70b\n",
    "    }\n",
    ")"
   ]
  },
  {
   "cell_type": "code",
   "execution_count": 13,
   "metadata": {},
   "outputs": [
    {
     "name": "stdout",
     "output_type": "stream",
     "text": [
      "Elsa Rose Bouquet added to cart successfully.\n",
      "My Girl Bouquet added to cart successfully.\n",
      "\n"
     ]
    }
   ],
   "source": [
    "print(result['final_answer'])"
   ]
  },
  {
   "cell_type": "code",
   "execution_count": 14,
   "metadata": {},
   "outputs": [
    {
     "name": "stderr",
     "output_type": "stream",
     "text": [
      "INFO:httpx:HTTP Request: POST https://api.groq.com/openai/v1/chat/completions \"HTTP/1.1 200 OK\"\n",
      "INFO:httpx:HTTP Request: POST https://api.groq.com/openai/v1/chat/completions \"HTTP/1.1 200 OK\"\n"
     ]
    }
   ],
   "source": [
    "user_query = \"add item to my cart\"\n",
    "result = flower_graph.invoke(\n",
    "    {\n",
    "    \"query\":user_query,\n",
    "    \"cust_id\":cust_id,\n",
    "    \"product_qdrant\":product_qdrant,\n",
    "    \"policy_qdrant\":policy_qdrant,\n",
    "    \"groq_llama3_1_70b\":groq_llama3_1_70b\n",
    "    }\n",
    ")"
   ]
  },
  {
   "cell_type": "code",
   "execution_count": 15,
   "metadata": {},
   "outputs": [
    {
     "name": "stdout",
     "output_type": "stream",
     "text": [
      "No specific items were mentioned in the query.\n"
     ]
    }
   ],
   "source": [
    "print(result['final_answer'])"
   ]
  },
  {
   "cell_type": "markdown",
   "metadata": {},
   "source": [
    "## 4.3 Policy Agent"
   ]
  },
  {
   "cell_type": "code",
   "execution_count": 16,
   "metadata": {},
   "outputs": [
    {
     "name": "stderr",
     "output_type": "stream",
     "text": [
      "INFO:httpx:HTTP Request: POST https://api.groq.com/openai/v1/chat/completions \"HTTP/1.1 200 OK\"\n",
      "INFO:httpx:HTTP Request: POST https://api.groq.com/openai/v1/chat/completions \"HTTP/1.1 200 OK\"\n"
     ]
    },
    {
     "name": "stdout",
     "output_type": "stream",
     "text": [
      "You can request a refund if you cancel your order, but it depends on the type of order and the timeframe. For standard orders, you can cancel up to 24 hours before the scheduled delivery time and receive a full refund. However, for same-day delivery orders, no cancellations or refunds are allowed once the order is confirmed.\n"
     ]
    }
   ],
   "source": [
    "user_query = \"Can I request for refund if I cancel my order ?\"\n",
    "result = flower_graph.invoke(\n",
    "    {\n",
    "    \"query\":user_query,\n",
    "    \"cust_id\":cust_id,\n",
    "    \"product_qdrant\":product_qdrant,\n",
    "    \"policy_qdrant\":policy_qdrant,\n",
    "    \"groq_llama3_1_70b\":groq_llama3_1_70b\n",
    "    }\n",
    ")\n",
    "print(result['final_answer'])"
   ]
  },
  {
   "cell_type": "code",
   "execution_count": 17,
   "metadata": {},
   "outputs": [
    {
     "name": "stderr",
     "output_type": "stream",
     "text": [
      "INFO:httpx:HTTP Request: POST https://api.groq.com/openai/v1/chat/completions \"HTTP/1.1 200 OK\"\n",
      "INFO:httpx:HTTP Request: POST https://api.groq.com/openai/v1/chat/completions \"HTTP/1.1 200 OK\"\n"
     ]
    },
    {
     "name": "stdout",
     "output_type": "stream",
     "text": [
      "No, we are closed on Sundays. Our operating hours are from 9:00 AM to 6:00 PM, Monday to Saturday.\n"
     ]
    }
   ],
   "source": [
    "user_query = \"did you guys open on sunday?\"\n",
    "result = flower_graph.invoke(\n",
    "    {\n",
    "    \"query\":user_query,\n",
    "    \"cust_id\":cust_id,\n",
    "    \"product_qdrant\":product_qdrant,\n",
    "    \"policy_qdrant\":policy_qdrant,\n",
    "    \"groq_llama3_1_70b\":groq_llama3_1_70b\n",
    "    }\n",
    ")\n",
    "print(result['final_answer'])"
   ]
  },
  {
   "cell_type": "markdown",
   "metadata": {},
   "source": [
    "## 4.4 Apology Agent"
   ]
  },
  {
   "cell_type": "code",
   "execution_count": 19,
   "metadata": {},
   "outputs": [
    {
     "name": "stderr",
     "output_type": "stream",
     "text": [
      "INFO:httpx:HTTP Request: POST https://api.groq.com/openai/v1/chat/completions \"HTTP/1.1 200 OK\"\n",
      "INFO:httpx:HTTP Request: POST https://api.groq.com/openai/v1/chat/completions \"HTTP/1.1 200 OK\"\n"
     ]
    },
    {
     "name": "stdout",
     "output_type": "stream",
     "text": [
      "I'm sorry, but I'm not able to assist with that query as it's not related to product recommendation, policy, or cart management. I'm here to help with shopping-related questions, but I don't have information on general knowledge topics like Cristiano Ronaldo. If you have a question about a product or your shopping experience, I'd be happy to try and help.\n"
     ]
    }
   ],
   "source": [
    "user_query = \"Who is cristiano ronaldo ?\"\n",
    "result = flower_graph.invoke(\n",
    "    {\n",
    "    \"query\":user_query,\n",
    "    \"cust_id\":cust_id,\n",
    "    \"product_qdrant\":product_qdrant,\n",
    "    \"policy_qdrant\":policy_qdrant,\n",
    "    \"groq_llama3_1_70b\":groq_llama3_1_70b\n",
    "    }\n",
    ")\n",
    "print(result['final_answer'])"
   ]
  },
  {
   "cell_type": "code",
   "execution_count": null,
   "metadata": {},
   "outputs": [],
   "source": []
  },
  {
   "cell_type": "code",
   "execution_count": null,
   "metadata": {},
   "outputs": [],
   "source": []
  }
 ],
 "metadata": {
  "kernelspec": {
   "display_name": "jaredllm",
   "language": "python",
   "name": "python3"
  },
  "language_info": {
   "codemirror_mode": {
    "name": "ipython",
    "version": 3
   },
   "file_extension": ".py",
   "mimetype": "text/x-python",
   "name": "python",
   "nbconvert_exporter": "python",
   "pygments_lexer": "ipython3",
   "version": "3.12.4"
  }
 },
 "nbformat": 4,
 "nbformat_minor": 2
}
