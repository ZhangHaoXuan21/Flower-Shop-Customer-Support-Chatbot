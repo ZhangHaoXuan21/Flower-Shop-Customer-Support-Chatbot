{
 "cells": [
  {
   "cell_type": "markdown",
   "metadata": {},
   "source": [
    "# 1. Test Product Agent"
   ]
  },
  {
   "cell_type": "code",
   "execution_count": 1,
   "metadata": {},
   "outputs": [],
   "source": [
    "import requests"
   ]
  },
  {
   "cell_type": "code",
   "execution_count": 18,
   "metadata": {},
   "outputs": [],
   "source": [
    "# Define the URL of the API\n",
    "url = \"http://127.0.0.1:8000/chatResponse\"  # Replace with your server URL if deployed\n",
    "\n",
    "user_query = \"Give me 3 flowers to choose for proposing to a girl i loved!!!\"\n",
    "#user_query = \"Give 3 flowers to choose to attend funeral\"\n",
    "cust_id = \"C001\"\n",
    "\n",
    "# Define the JSON payload\n",
    "payload = {\n",
    "    \"cust_id\": cust_id,\n",
    "    \"user_query\":user_query\n",
    "}\n",
    "\n",
    "# Make the POST request\n",
    "response = requests.post(url, json=payload).json()\n",
    "\n"
   ]
  },
  {
   "cell_type": "code",
   "execution_count": 19,
   "metadata": {},
   "outputs": [
    {
     "data": {
      "text/plain": [
       "{'final_answer': \"I'd be happy to help you choose the perfect flowers for proposing to the girl you love. Based on the options provided, I highly recommend the following three bouquets:\\n\\n1. **Elsa Rose Bouquet**: \\n**Reason to Buy**: This bouquet is a timeless expression of love and passion, featuring 12 stunning Elsa Roses that radiate beauty and grace. Elsa Roses symbolize admiration, gratitude, and gentle affection, making them the perfect choice for expressing your love and devotion. This bouquet is more than just flowers; it's a declaration of love that will surely leave a lasting impression on your loved one.\\n\\n2. **My Girl Bouquet**: \\n**Reason to Buy**: This bouquet is a sweet and gentle arrangement that adds a touch of magic to make your loved one's celebration even more memorable. The combination of Pink Roses, symbolizing affection and admiration, and White Tulips, symbolizing the magical beginning of a love connection, makes this bouquet a perfect choice for expressing your love and appreciation from the heart.\\n\\n3. **Blooming Garden Bouquet**: \\n**Reason to Buy**: This bouquet is a stunning arrangement that features a combination of vibrant flowers, including Blue Hydrangea, Purple Roses, Purple Rose Spray, Pink Daisies, and Champagne Gerbera. Each flower has its own special meaning, and together they convey a message of love, admiration, and appreciation. This bouquet is a unique and thoughtful gift that will surely leave a lasting impression on your loved one.\\n\\nThese three bouquets are perfect for proposing to the girl you love, as they convey a message of love, admiration, and devotion. However, if you're looking for a more personalized recommendation, please provide me with more information about your loved one's preferences and interests.\",\n",
       " 'recommend_products': ['Elsa Rose Bouquet',\n",
       "  'My Girl Bouquet',\n",
       "  'Blooming Garden Bouquet'],\n",
       " 'supervisor_route_choice': 'product_recommendation_agent'}"
      ]
     },
     "execution_count": 19,
     "metadata": {},
     "output_type": "execute_result"
    }
   ],
   "source": [
    "response"
   ]
  },
  {
   "cell_type": "code",
   "execution_count": 20,
   "metadata": {},
   "outputs": [
    {
     "name": "stdout",
     "output_type": "stream",
     "text": [
      "I'd be happy to help you choose the perfect flowers for proposing to the girl you love. Based on the options provided, I highly recommend the following three bouquets:\n",
      "\n",
      "1. **Elsa Rose Bouquet**: \n",
      "**Reason to Buy**: This bouquet is a timeless expression of love and passion, featuring 12 stunning Elsa Roses that radiate beauty and grace. Elsa Roses symbolize admiration, gratitude, and gentle affection, making them the perfect choice for expressing your love and devotion. This bouquet is more than just flowers; it's a declaration of love that will surely leave a lasting impression on your loved one.\n",
      "\n",
      "2. **My Girl Bouquet**: \n",
      "**Reason to Buy**: This bouquet is a sweet and gentle arrangement that adds a touch of magic to make your loved one's celebration even more memorable. The combination of Pink Roses, symbolizing affection and admiration, and White Tulips, symbolizing the magical beginning of a love connection, makes this bouquet a perfect choice for expressing your love and appreciation from the heart.\n",
      "\n",
      "3. **Blooming Garden Bouquet**: \n",
      "**Reason to Buy**: This bouquet is a stunning arrangement that features a combination of vibrant flowers, including Blue Hydrangea, Purple Roses, Purple Rose Spray, Pink Daisies, and Champagne Gerbera. Each flower has its own special meaning, and together they convey a message of love, admiration, and appreciation. This bouquet is a unique and thoughtful gift that will surely leave a lasting impression on your loved one.\n",
      "\n",
      "These three bouquets are perfect for proposing to the girl you love, as they convey a message of love, admiration, and devotion. However, if you're looking for a more personalized recommendation, please provide me with more information about your loved one's preferences and interests.\n"
     ]
    }
   ],
   "source": [
    "print(response['final_answer'])"
   ]
  },
  {
   "cell_type": "markdown",
   "metadata": {},
   "source": [
    "## 1.2 Cart Agent"
   ]
  },
  {
   "cell_type": "code",
   "execution_count": 24,
   "metadata": {},
   "outputs": [],
   "source": [
    "user_query = \"add 1 Elsa Rose Bouquet to cart and 2 My Girl Bouquet to cart\"\n",
    "#user_query = \"add 1 to cart\"\n",
    "cust_id = \"C001\"\n",
    "# Define the URL of the API\n",
    "url = \"http://127.0.0.1:8000/chatResponse\"  # Replace with your server URL if deployed\n",
    "\n",
    "# Define the JSON payload\n",
    "payload = {\n",
    "    \"cust_id\": cust_id,\n",
    "    \"user_query\":user_query\n",
    "}\n",
    "\n",
    "# Make the POST request\n",
    "response = requests.post(url, json=payload).json()"
   ]
  },
  {
   "cell_type": "code",
   "execution_count": 25,
   "metadata": {},
   "outputs": [
    {
     "data": {
      "text/plain": [
       "{'final_answer': 'Elsa Rose Bouquet added to cart successfully.\\nMy Girl Bouquet added to cart successfully.\\n',\n",
       " 'recommend_products': 'None',\n",
       " 'supervisor_route_choice': 'cart_agent'}"
      ]
     },
     "execution_count": 25,
     "metadata": {},
     "output_type": "execute_result"
    }
   ],
   "source": [
    "response"
   ]
  },
  {
   "cell_type": "code",
   "execution_count": 26,
   "metadata": {},
   "outputs": [
    {
     "name": "stdout",
     "output_type": "stream",
     "text": [
      "Elsa Rose Bouquet added to cart successfully.\n",
      "My Girl Bouquet added to cart successfully.\n",
      "\n"
     ]
    }
   ],
   "source": [
    "print(response['final_answer'])"
   ]
  },
  {
   "cell_type": "code",
   "execution_count": null,
   "metadata": {},
   "outputs": [],
   "source": []
  },
  {
   "cell_type": "code",
   "execution_count": null,
   "metadata": {},
   "outputs": [],
   "source": []
  },
  {
   "cell_type": "code",
   "execution_count": null,
   "metadata": {},
   "outputs": [],
   "source": []
  }
 ],
 "metadata": {
  "kernelspec": {
   "display_name": "jaredllm",
   "language": "python",
   "name": "python3"
  },
  "language_info": {
   "codemirror_mode": {
    "name": "ipython",
    "version": 3
   },
   "file_extension": ".py",
   "mimetype": "text/x-python",
   "name": "python",
   "nbconvert_exporter": "python",
   "pygments_lexer": "ipython3",
   "version": "3.12.4"
  }
 },
 "nbformat": 4,
 "nbformat_minor": 2
}
