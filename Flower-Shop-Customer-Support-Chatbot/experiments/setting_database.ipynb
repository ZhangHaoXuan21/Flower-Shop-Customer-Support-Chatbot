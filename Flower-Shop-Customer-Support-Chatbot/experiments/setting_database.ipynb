{
 "cells": [
  {
   "cell_type": "code",
   "execution_count": 1,
   "metadata": {},
   "outputs": [],
   "source": [
    "import pandas as pd\n",
    "import sqlite3 "
   ]
  },
  {
   "cell_type": "markdown",
   "metadata": {},
   "source": [
    "# 1. Load Dataset"
   ]
  },
  {
   "cell_type": "code",
   "execution_count": 2,
   "metadata": {},
   "outputs": [],
   "source": [
    "df = pd.read_excel('../dataset/flowers.xlsx')"
   ]
  },
  {
   "cell_type": "markdown",
   "metadata": {},
   "source": [
    "# 2. Create Sqllite Database"
   ]
  },
  {
   "cell_type": "markdown",
   "metadata": {},
   "source": [
    "## 2.1 Create Tables"
   ]
  },
  {
   "cell_type": "code",
   "execution_count": 3,
   "metadata": {},
   "outputs": [],
   "source": [
    "import sqlite3\n",
    "\n",
    "database = 'flowers.db'\n",
    "\n",
    "create_table_customer_query = \"\"\" \n",
    "CREATE TABLE Customer (\n",
    "    CustomerId TEXT PRIMARY KEY,\n",
    "    CustomerName TEXT NOT NULL,\n",
    "    Email TEXT NOT NULL,\n",
    "    Password TEXT NOT NULL\n",
    ")\n",
    "\"\"\"\n",
    "\n",
    "create_table_product_query = \"\"\" \n",
    "CREATE TABLE Product (\n",
    "    ProductId TEXT PRIMARY KEY,\n",
    "    ProductName TEXT NOT NULL,\n",
    "    Price INTEGER NOT NULL\n",
    ")\n",
    "\"\"\"\n",
    "\n",
    "create_table_cartlist_query = \"\"\" \n",
    "CREATE TABLE Cartlist (\n",
    "    CustomerId TEXT NOT NULL,\n",
    "    ProductId TEXT NOT NULL,\n",
    "    Quantity INTEGER NOT NULL,\n",
    "    TotalPrice FLOAT NOT NULL,\n",
    "    FOREIGN KEY (CustomerId) REFERENCES Customer (CustomerId),\n",
    "    FOREIGN KEY (ProductId) REFERENCES Product (ProductId),\n",
    "    PRIMARY KEY (CustomerId, ProductId)\n",
    ");\n",
    "\"\"\"\n",
    "\n",
    "create_table_query_list = [create_table_customer_query, create_table_product_query, create_table_cartlist_query]\n",
    "\n",
    "for query in create_table_query_list:\n",
    "    try:\n",
    "        with sqlite3.connect(database) as conn:\n",
    "            cursor = conn.cursor()\n",
    "            cursor.execute(query)   \n",
    "            conn.commit()\n",
    "\n",
    "    except sqlite3.OperationalError as e:\n",
    "        print(e)"
   ]
  },
  {
   "cell_type": "markdown",
   "metadata": {},
   "source": [
    "## 2.2 Insert Dummy Data"
   ]
  },
  {
   "cell_type": "markdown",
   "metadata": {},
   "source": [
    "### 2.2.1 Insert Customer Data"
   ]
  },
  {
   "cell_type": "code",
   "execution_count": 4,
   "metadata": {},
   "outputs": [
    {
     "name": "stdout",
     "output_type": "stream",
     "text": [
      "Customer data inserted successfully\n"
     ]
    }
   ],
   "source": [
    "insert_customer_query = \"\"\"\n",
    "INSERT INTO Customer (CustomerId, CustomerName, Email, Password)\n",
    "VALUES (?, ?, ?, ?)\n",
    "\"\"\"\n",
    "customer_data = [\n",
    "    (\"C001\", \"Bale\", \"bale@example.com\", \"password\"),\n",
    "    (\"C002\", \"Alice\", \"alice@example.com\", \"password\"),\n",
    "    (\"C003\", \"Bob\", \"bob@example.com\", \"password\")\n",
    "]\n",
    "\n",
    "with sqlite3.connect(database) as conn:\n",
    "    cursor = conn.cursor()\n",
    "    cursor.executemany(insert_customer_query, customer_data)\n",
    "    conn.commit()\n",
    "    print(\"Customer data inserted successfully\")\n"
   ]
  },
  {
   "cell_type": "markdown",
   "metadata": {},
   "source": [
    "### 2.2.2 Insert Product Data"
   ]
  },
  {
   "cell_type": "code",
   "execution_count": 5,
   "metadata": {},
   "outputs": [],
   "source": [
    "product_data = []\n",
    "for index, row in df.iterrows():\n",
    "    product_id = row['Product_Id']\n",
    "    product_name = row['Product_Name']\n",
    "    price = row['Price_RM']\n",
    "    product_data.append((product_id, product_name, price))\n"
   ]
  },
  {
   "cell_type": "code",
   "execution_count": 6,
   "metadata": {},
   "outputs": [
    {
     "name": "stdout",
     "output_type": "stream",
     "text": [
      "Product data inserted successfully\n"
     ]
    }
   ],
   "source": [
    "insert_product_query = \"\"\"\n",
    "INSERT INTO Product (ProductId, ProductName, Price)\n",
    "VALUES (?, ?, ?)\n",
    "\"\"\"\n",
    "\n",
    "with sqlite3.connect(database) as conn:\n",
    "    cursor = conn.cursor()\n",
    "    cursor.executemany(insert_product_query, product_data)\n",
    "    conn.commit()\n",
    "    print(\"Product data inserted successfully\")\n"
   ]
  },
  {
   "cell_type": "markdown",
   "metadata": {},
   "source": [
    "### 2.2.3 Insert CartList Data"
   ]
  },
  {
   "cell_type": "code",
   "execution_count": 10,
   "metadata": {},
   "outputs": [
    {
     "name": "stdout",
     "output_type": "stream",
     "text": [
      "Cart data inserted successfully\n"
     ]
    }
   ],
   "source": [
    "insert_cart_query = \"\"\"\n",
    "INSERT INTO CartList (CustomerId, ProductId, Quantity, TotalPrice)\n",
    "VALUES (?, ?, ?, ?)\n",
    "\"\"\"\n",
    "\n",
    "cart_data = [\n",
    "    (\"C001\", \"P001\", 1, 420),\n",
    "    (\"C002\", \"P002\", 1, 95),\n",
    "    (\"C003\", \"P003\", 1, 280),\n",
    "    (\"C001\", \"P004\", 2, 600),\n",
    "    (\"C002\", \"P005\", 2, 800),\n",
    "    (\"C003\", \"P006\", 2, 520),\n",
    "]\n",
    "\n",
    "with sqlite3.connect(database) as conn:\n",
    "    cursor = conn.cursor()\n",
    "    cursor.executemany(insert_cart_query, cart_data)\n",
    "    conn.commit()\n",
    "    print(\"Cart data inserted successfully\")\n"
   ]
  },
  {
   "cell_type": "markdown",
   "metadata": {},
   "source": [
    "# Final: Query with the database"
   ]
  },
  {
   "cell_type": "code",
   "execution_count": 2,
   "metadata": {},
   "outputs": [
    {
     "name": "stdout",
     "output_type": "stream",
     "text": [
      "('C001', 'P001', 3, 1260.0)\n",
      "('C001', 'P003', 2, 560.0)\n",
      "('C001', 'P004', 2, 600.0)\n",
      "('C001', 'P009', 4, 400.0)\n",
      "('C001', 'P015', 3, 600.0)\n",
      "('C001', 'P021', 6, 540.0)\n",
      "('C001', 'P023', 10, 5000.0)\n"
     ]
    }
   ],
   "source": [
    "import sqlite3\n",
    "database = 'flowers.db'\n",
    "\n",
    "conn = sqlite3.connect(database)\n",
    "cur = conn.cursor()\n",
    "cur.execute(\"SELECT * FROM Cartlist WHERE CustomerId == 'C001' \")\n",
    "rows = cur.fetchall()\n",
    "conn.close()\n",
    "for row in rows:\n",
    "   print(row)"
   ]
  },
  {
   "cell_type": "code",
   "execution_count": 11,
   "metadata": {},
   "outputs": [],
   "source": [
    "def add_item_to_cart_by_name(customer_id, product_name, quantity):\n",
    "    try:\n",
    "        with sqlite3.connect('flowers.db') as conn:\n",
    "            cursor = conn.cursor()\n",
    "            \n",
    "            # Get product price and ID\n",
    "            cursor.execute(\"SELECT ProductId, Price FROM Product WHERE ProductName = ?\", (product_name,))\n",
    "            product = cursor.fetchone()\n",
    "            \n",
    "            if product is None:\n",
    "                raise ValueError(\"Product not found\")\n",
    "            \n",
    "            product_id, price = product\n",
    "            total_price = price * quantity\n",
    "            \n",
    "            # Add or update item in cart\n",
    "            query = \"\"\"\n",
    "            INSERT INTO Cartlist (CustomerId, ProductId, Quantity, TotalPrice)\n",
    "            VALUES (\n",
    "                ?,\n",
    "                ?,\n",
    "                ?,\n",
    "                ?\n",
    "            )\n",
    "            ON CONFLICT(CustomerId, ProductId)\n",
    "            DO UPDATE SET\n",
    "                Quantity = Quantity + excluded.Quantity,\n",
    "                TotalPrice = (Quantity + excluded.Quantity) * (SELECT Price FROM Product WHERE ProductId = excluded.ProductId);\n",
    "            \"\"\"\n",
    "            cursor.execute(query, (customer_id, product_id, quantity, total_price))\n",
    "            conn.commit()\n",
    "\n",
    "            return {\n",
    "                \"process_message\":\"Item added to cart successfully.\",\n",
    "                \"completed\":True\n",
    "            }\n",
    "        \n",
    "    except sqlite3.Error as e:\n",
    "        print(f\"Error: {e}\")\n",
    "        return {\n",
    "                \"process_message\":\"Fail Add to Cart\",\n",
    "                \"completed\":False\n",
    "            }\n",
    "    except ValueError as ve:\n",
    "        print(ve)\n",
    "        return {\n",
    "                \"process_message\":\"Item added to cart successfully.\",\n",
    "                \"completed\":False\n",
    "            }\n",
    "\n"
   ]
  },
  {
   "cell_type": "code",
   "execution_count": 13,
   "metadata": {},
   "outputs": [
    {
     "data": {
      "text/plain": [
       "{'process_message': 'Item added to cart successfully.', 'completed': True}"
      ]
     },
     "execution_count": 13,
     "metadata": {},
     "output_type": "execute_result"
    }
   ],
   "source": [
    "add_item_to_cart_by_name('C001', 'Elsa Rose Bouquet', 2)\n"
   ]
  },
  {
   "cell_type": "code",
   "execution_count": null,
   "metadata": {},
   "outputs": [],
   "source": []
  },
  {
   "cell_type": "code",
   "execution_count": null,
   "metadata": {},
   "outputs": [],
   "source": []
  }
 ],
 "metadata": {
  "kernelspec": {
   "display_name": "jaredllm",
   "language": "python",
   "name": "python3"
  },
  "language_info": {
   "codemirror_mode": {
    "name": "ipython",
    "version": 3
   },
   "file_extension": ".py",
   "mimetype": "text/x-python",
   "name": "python",
   "nbconvert_exporter": "python",
   "pygments_lexer": "ipython3",
   "version": "3.12.4"
  }
 },
 "nbformat": 4,
 "nbformat_minor": 2
}
